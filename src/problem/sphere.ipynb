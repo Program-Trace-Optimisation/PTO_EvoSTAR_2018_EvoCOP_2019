{
 "cells": [
  {
   "cell_type": "markdown",
   "metadata": {},
   "source": [
    "## A real-valued problem and experimental analysis\n"
   ]
  },
  {
   "cell_type": "markdown",
   "metadata": {
    "collapsed": true
   },
   "source": [
    "### Sphere\n",
    "\n",
    "A standard sanity-check test problem for real-valued genetic algorithms. Given a problem size `n`, the search space is $R^n$ and the goal is to find the origin.\n",
    "\n",
    "We'll follow the same approach as in *Onemax*."
   ]
  },
  {
   "cell_type": "code",
   "execution_count": 1,
   "metadata": {
    "collapsed": true
   },
   "outputs": [],
   "source": [
    "from PTO import solve, random"
   ]
  },
  {
   "cell_type": "markdown",
   "metadata": {
    "collapsed": true
   },
   "source": [
    "### Defining a generator\n",
    "\n",
    "Our generator must generate real vectors of size `n`. To keep things simple for now, we fix `n` = 10. Later, we'll see how to vary this."
   ]
  },
  {
   "cell_type": "code",
   "execution_count": 2,
   "metadata": {
    "collapsed": true
   },
   "outputs": [],
   "source": [
    "def randsol():\n",
    "    return [random.uniform(-1,1) for x in range(10)]"
   ]
  },
  {
   "cell_type": "markdown",
   "metadata": {
    "collapsed": true
   },
   "source": [
    "### Defining a fitness function\n",
    "\n",
    "Our solvers *maximise*, so we take the negative of the usual *sphere* objective function."
   ]
  },
  {
   "cell_type": "code",
   "execution_count": 3,
   "metadata": {
    "collapsed": true
   },
   "outputs": [],
   "source": [
    "fitness = lambda x: -sum(xi**2.0 for xi in x)"
   ]
  },
  {
   "cell_type": "markdown",
   "metadata": {},
   "source": [
    "### Testing our generator and fitness"
   ]
  },
  {
   "cell_type": "code",
   "execution_count": 4,
   "metadata": {},
   "outputs": [
    {
     "name": "stdout",
     "output_type": "stream",
     "text": [
      "Random solution: fitness -4.517; -0.87, -0.81, -0.91, 0.60, -0.24, -0.31, 0.86, 0.18, -0.26, -0.97\n",
      "Random solution: fitness -4.218; 0.75, 0.64, 0.51, -0.17, -0.58, -0.66, -0.69, -0.76, -0.98, -0.42\n",
      "Random solution: fitness -3.333; -0.32, 0.22, 0.23, -0.81, -0.53, -0.92, -0.22, 0.33, 0.56, 0.93\n",
      "Random solution: fitness -2.826; 0.89, -0.40, 0.13, -0.43, -0.66, 0.03, 0.31, 0.82, -0.22, 0.66\n",
      "Random solution: fitness -4.044; 0.93, 0.60, 0.26, 0.52, 0.68, -0.62, 0.81, -0.09, 0.95, -0.24\n"
     ]
    }
   ],
   "source": [
    "def pprint_vec(v):\n",
    "    return \", \".join(map((lambda vi: \"%.2f\" % vi), v))\n",
    "\n",
    "for i in range(5):\n",
    "    x = randsol()\n",
    "    print(\"Random solution: fitness %.3f; \" % fitness(x) + pprint_vec(x))"
   ]
  },
  {
   "cell_type": "markdown",
   "metadata": {
    "collapsed": true
   },
   "source": [
    "### Optimization\n",
    "\n",
    "We are ready to use the `solve` function."
   ]
  },
  {
   "cell_type": "code",
   "execution_count": 5,
   "metadata": {},
   "outputs": [
    {
     "name": "stdout",
     "output_type": "stream",
     "text": [
      "-0.773725411393: 0.55, -0.28, 0.05, -0.10, -0.07, 0.36, 0.37, -0.06, 0.04, 0.33\n"
     ]
    }
   ],
   "source": [
    "ind, fit = solve(randsol, fitness, solver=\"EA\")\n",
    "print(str(fit) + \": \" + pprint_vec(ind))"
   ]
  },
  {
   "cell_type": "markdown",
   "metadata": {},
   "source": [
    "### Variant generators\n",
    "\n",
    "One of the most interesting aspects of PTO is the generator function itself. Users can write their problem knowledge into the generator. It is interesting to consider alternative generators for the same problem. Here, we'll make a new generator and compare its behaviour."
   ]
  },
  {
   "cell_type": "code",
   "execution_count": 6,
   "metadata": {
    "collapsed": true
   },
   "outputs": [],
   "source": [
    "def randsol2(): # uniform initialisation by random walk (induces fine-grained mutation)\n",
    "    problem_size = 10\n",
    "    sol=[random.uniform(-1,1) for x in range(problem_size)] # controllable start: starting point is in the trace\n",
    "    for x in range(20): # random walk of 20 steps\n",
    "         sol = [sol[i] + random.uniform(-0.1,0.1) for i in range(problem_size)] # step-size 0.1\n",
    "    return sol"
   ]
  },
  {
   "cell_type": "code",
   "execution_count": 7,
   "metadata": {},
   "outputs": [
    {
     "name": "stdout",
     "output_type": "stream",
     "text": [
      "-0.0211336416316: 0.05, -0.05, -0.02, 0.07, 0.02, -0.03, 0.03, -0.04, -0.05, -0.07\n"
     ]
    }
   ],
   "source": [
    "ind, fit = solve(randsol2, fitness, solver=\"EA\")\n",
    "print(str(fit) + \": \" + pprint_vec(ind))"
   ]
  },
  {
   "cell_type": "markdown",
   "metadata": {},
   "source": [
    "### Trace types\n",
    "\n",
    "PTO also provides two types of *program trace* representations. \n",
    "\n",
    "A *linear* trace is similar to that used in PODI (McDermott  & Carroll, 2013). It records random decisions sequentially. Hence it suffers from the same type of *ripple effect* as in grammatical evolution. A core contribution of PTO is the use of the *structured trace* which takes account of the structure of the generator when recording the random decisions, allowing it to make \"smart\" decisions when editing a trace. The structured trace is the default option. The linear trace is provided only for experimental comparison, and is not intended for real-world use. We can choose to switch the structured trace on (default) or off as follows."
   ]
  },
  {
   "cell_type": "code",
   "execution_count": 8,
   "metadata": {},
   "outputs": [
    {
     "name": "stdout",
     "output_type": "stream",
     "text": [
      "-0.361988258171: 0.19, -0.06, -0.22, 0.08, -0.07, 0.10, -0.23, -0.27, -0.32, 0.15\n",
      "-0.87976198418: 0.13, 0.33, 0.36, 0.17, 0.14, -0.58, -0.44, -0.06, 0.12, -0.15\n"
     ]
    }
   ],
   "source": [
    "ind, fit = solve(randsol, fitness, solver=\"HC\", effort=1.5, str_trace=False)\n",
    "print(str(fit) + \": \" + pprint_vec(ind))\n",
    "ind, fit = solve(randsol, fitness, solver=\"HC\", effort=1.5, str_trace=True)\n",
    "print(str(fit) + \": \" + pprint_vec(ind))"
   ]
  },
  {
   "cell_type": "markdown",
   "metadata": {},
   "source": [
    "### Experiments and analysis\n",
    "\n",
    "PTO provides some built-in methods for running experiments to compare solvers, trace types and generators."
   ]
  },
  {
   "cell_type": "code",
   "execution_count": 9,
   "metadata": {},
   "outputs": [],
   "source": [
    "%matplotlib inline\n",
    "\n",
    "from PTO import plot_runs, compare_all, make_table, stat_summary, plot_scalability"
   ]
  },
  {
   "cell_type": "markdown",
   "metadata": {},
   "source": [
    "### `plot_runs`\n",
    "\n",
    "Do some runs, and show the change in fitness during runs, averaged across runs."
   ]
  },
  {
   "cell_type": "code",
   "execution_count": 10,
   "metadata": {},
   "outputs": [
    {
     "name": "stdout",
     "output_type": "stream",
     "text": [
      "10\n",
      "10\n",
      "10\n",
      "10\n",
      "10\n",
      "10\n",
      "10\n",
      "10\n",
      "10\n",
      "10\n"
     ]
    },
    {
     "data": {
      "image/png": "[encoded data removed]",
      "text/plain": [
       "<matplotlib.figure.Figure at 0x11287f110>"
      ]
     },
     "metadata": {},
     "output_type": "display_data"
    }
   ],
   "source": [
    "plot_runs(randsol, fitness, num_runs=10)"
   ]
  },
  {
   "cell_type": "markdown",
   "metadata": {},
   "source": [
    "### `compare_all`\n",
    "\n",
    "Do a *permutation* of hyperparameters. It can try variant generators, search methods (solvers) and trace types. In the example below, we compare two generators with all solvers. By default, it tries only the structured trace.\n",
    "\n",
    "After, we can print the results in a table with `make_table`."
   ]
  },
  {
   "cell_type": "code",
   "execution_count": 11,
   "metadata": {},
   "outputs": [
    {
     "name": "stdout",
     "output_type": "stream",
     "text": [
      "10\n",
      "10\n",
      "10\n",
      "10\n",
      "(None, True, 'randsol', 'EA'): mean -0.13 std 0.01 min -0.14 med -0.13 max -0.13\n",
      "(None, True, 'randsol', 'HC'): mean -0.01 std 0.00 min -0.01 med -0.01 max -0.01\n",
      "(None, True, 'randsol', 'LA'): mean -0.02 std 0.01 min -0.02 med -0.02 max -0.01\n",
      "(None, True, 'randsol', 'PS'): mean -0.03 std 0.01 min -0.03 med -0.03 max -0.02\n",
      "(None, True, 'randsol', 'RS'): mean -0.63 std 0.05 min -0.68 med -0.63 max -0.58\n",
      "(None, True, 'randsol2', 'EA'): mean -0.02 std 0.00 min -0.02 med -0.02 max -0.02\n",
      "(None, True, 'randsol2', 'HC'): mean -0.00 std 0.00 min -0.00 med -0.00 max -0.00\n",
      "(None, True, 'randsol2', 'LA'): mean -0.02 std 0.02 min -0.04 med -0.02 max -0.00\n",
      "(None, True, 'randsol2', 'PS'): mean -0.01 std 0.00 min -0.01 med -0.01 max -0.01\n",
      "(None, True, 'randsol2', 'RS'): mean -0.82 std 0.03 min -0.85 med -0.82 max -0.80\n"
     ]
    }
   ],
   "source": [
    "results = compare_all(fitness, [randsol, randsol2], methods=[\"RS\", \"HC\", \"LA\", \"EA\", \"PS\"], budget=1000, num_runs=2) \n",
    "make_table(results) # print"
   ]
  },
  {
   "cell_type": "markdown",
   "metadata": {},
   "source": [
    "### Scalability, `problem_size`, and `compare_all`\n",
    "\n",
    "In some problems it's natural to talk about instances of the problem at different problem sizes. For cases like this, we may define our generator and fitness to take a `problem_size` argument. We can then use `compare_all` to do some runs varying some hyperparameters, including problem sizes, and afterwards plot the results over different sizes, using `plot_scalability`. To demonstrate, we'll make new versions of our generators and fitness function which accept a problem size."
   ]
  },
  {
   "cell_type": "code",
   "execution_count": 12,
   "metadata": {
    "collapsed": true
   },
   "outputs": [],
   "source": [
    "def fitness_n(x, problem_size):\n",
    "    return -sum(xi**2.0 for xi in x)\n",
    "\n",
    "def randsol_n(problem_size):\n",
    "    return [random.uniform(-1,1) for x in range(problem_size)]\n",
    "    \n",
    "def randsol2_n(problem_size): # uniform initialisation by random walk (induces finely-grained mutation)\n",
    "    sol=[random.uniform(-1,1) for x in range(problem_size)] # controllable start: starting point is the trace\n",
    "    for x in range(20): # random walk of 20 steps\n",
    "         sol = [sol[i] + random.uniform(-0.1,0.1) for i in range(problem_size)] # step-size 0.1\n",
    "    return sol"
   ]
  },
  {
   "cell_type": "code",
   "execution_count": 13,
   "metadata": {},
   "outputs": [
    {
     "name": "stdout",
     "output_type": "stream",
     "text": [
      "10\n",
      "10\n",
      "10\n",
      "10\n",
      "10\n",
      "10\n",
      "10\n",
      "10\n",
      "10\n",
      "10\n"
     ]
    }
   ],
   "source": [
    "sizes = [2, 4, 8, 16, 32]\n",
    "\n",
    "results_methods = compare_all(fitness_n, \n",
    "                              [randsol_n], \n",
    "                              methods=[\"RS\", \"HC\", \"LA\", \"EA\", \"PS\"], # do all solvers\n",
    "                              sizes=sizes,\n",
    "                              budget=1000, \n",
    "                              num_runs=2, \n",
    "                              print_progress=False)"
   ]
  },
  {
   "cell_type": "code",
   "execution_count": 14,
   "metadata": {
    "collapsed": true
   },
   "outputs": [],
   "source": [
    "results_traces = compare_all(fitness_n, \n",
    "                             [randsol_n], \n",
    "                             str_traces=[False, True], # do structured trace both off and on\n",
    "                             sizes=sizes,\n",
    "                             budget=1000, \n",
    "                             num_runs=2, \n",
    "                             print_progress=False)"
   ]
  },
  {
   "cell_type": "code",
   "execution_count": 15,
   "metadata": {
    "collapsed": true
   },
   "outputs": [],
   "source": [
    "results_generators = compare_all(fitness_n, \n",
    "                                 [randsol_n, randsol2_n], # do both generators\n",
    "                                 sizes=sizes,\n",
    "                                 budget=1000, \n",
    "                                 num_runs=2, \n",
    "                                 print_progress=False)"
   ]
  },
  {
   "cell_type": "code",
   "execution_count": 16,
   "metadata": {},
   "outputs": [
    {
     "data": {
      "image/png": "[encoded data removed]",
      "text/plain": [
       "<matplotlib.figure.Figure at 0x112ffdc90>"
      ]
     },
     "metadata": {},
     "output_type": "display_data"
    },
    {
     "data": {
      "image/png": "[encoded data removed]",
      "text/plain": [
       "<matplotlib.figure.Figure at 0x112db13d0>"
      ]
     },
     "metadata": {},
     "output_type": "display_data"
    },
    {
     "data": {
      "image/png": "[encoded data removed]",
      "text/plain": [
       "<matplotlib.figure.Figure at 0x112d90910>"
      ]
     },
     "metadata": {},
     "output_type": "display_data"
    }
   ],
   "source": [
    "plot_scalability(results_methods)\n",
    "plot_scalability(results_generators)\n",
    "plot_scalability(results_traces)"
   ]
  },
  {
   "cell_type": "markdown",
   "metadata": {},
   "source": [
    "**NB** if we make these new versions of the generators and fitness (accepting a `problem_size` argument), we must remember that when calling `solve` standalone (i.e. not inside `compare_all` or similar), `solve` will call the generator with no argument, and will call the fitness function with one argument, the individual. That is, it won't pass `problem_size`. If we wish to use the new versions with `solve`, one option is to use a *keyword* argument, which implies a default problem size, e.g. `def fitness(x, problem_size=10)`. Another is to fix the `problem_size` argument using `functools.partial`:\n",
    "\n",
    "```\n",
    "from functools import partial\n",
    "randsol = partial(randsol_n, 10)\n",
    "```"
   ]
  },
  {
   "cell_type": "markdown",
   "metadata": {},
   "source": [
    "### Conclusions\n",
    "\n",
    "We have seen a simple real-valued generator used it on a simple problem. And we have seen some tools for analysing large sets of results. And we have seen how to compare scalability for problems of the appropriate type. "
   ]
  },
  {
   "cell_type": "code",
   "execution_count": null,
   "metadata": {
    "collapsed": true
   },
   "outputs": [],
   "source": []
  }
 ],
 "metadata": {
  "kernelspec": {
   "display_name": "Python 2",
   "language": "python",
   "name": "python2"
  },
  "language_info": {
   "codemirror_mode": {
    "name": "ipython",
    "version": 2
   },
   "file_extension": ".py",
   "mimetype": "text/x-python",
   "name": "python",
   "nbconvert_exporter": "python",
   "pygments_lexer": "ipython2",
   "version": "2.7.14"
  }
 },
 "nbformat": 4,
 "nbformat_minor": 1
}
