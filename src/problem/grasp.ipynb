{
 "cells": [
  {
   "cell_type": "markdown",
   "metadata": {
    "collapsed": true
   },
   "source": [
    "## Program Trace Optimisation: GRASP\n",
    "\n"
   ]
  },
  {
   "cell_type": "code",
   "execution_count": 1,
   "metadata": {},
   "outputs": [],
   "source": [
    "from PTO import random, solve"
   ]
  },
  {
   "cell_type": "markdown",
   "metadata": {
    "collapsed": true
   },
   "source": [
    "### Generic GRASP generator\n"
   ]
  },
  {
   "cell_type": "code",
   "execution_count": 2,
   "metadata": {},
   "outputs": [],
   "source": [
    "alpha = 0.5 # completely greedy: 0.0, completely random: 1.0 \n",
    "\n",
    "def randsol():\n",
    "  solution = empty_solution()\n",
    "  while(not complete(solution)):\n",
    "    #print(solution)\n",
    "    features = allowed_features(solution)\n",
    "    costs = {feat:cost_feature(solution, feat) for feat in features}\n",
    "    min_cost, max_cost = min(costs.values()), max(costs.values())\n",
    "    RCL = [feat for feat in features if costs[feat] <= min_cost + alpha * (max_cost - min_cost)]\n",
    "    #print(RCL)\n",
    "    selected_feature = random.choice(RCL) # only source of randomness\n",
    "    solution = add_feature(solution, selected_feature)\n",
    "  return solution "
   ]
  },
  {
   "cell_type": "markdown",
   "metadata": {},
   "source": [
    "### Specific GRASP functions for the SORTING problem"
   ]
  },
  {
   "cell_type": "code",
   "execution_count": 3,
   "metadata": {},
   "outputs": [],
   "source": [
    "n=10\n",
    "\n",
    "def empty_solution():\n",
    "  return []\n",
    "\n",
    "def complete(solution):\n",
    "  return len(solution)==n\n",
    "\n",
    "def allowed_features(solution):\n",
    "  all_items = range(1,n+1)\n",
    "  remaining_items = [item for item in all_items if item not in solution]\n",
    "  return remaining_items\n",
    "\n",
    "def cost_feature(solution, feat):\n",
    "  last_item = solution[-1] if len(solution)>0 else 0\n",
    "  dist = abs(feat - last_item)\n",
    "  return dist\n",
    "\n",
    "def add_feature(solution, feat):\n",
    "  sol = solution[:] + [feat]\n",
    "  return sol"
   ]
  },
  {
   "cell_type": "markdown",
   "metadata": {},
   "source": [
    "### Fitness function "
   ]
  },
  {
   "cell_type": "code",
   "execution_count": 4,
   "metadata": {},
   "outputs": [],
   "source": [
    "def fitness(solution): # cost to minimise, best solution has cost 0\n",
    "  return -sum([abs(solution[pos]-(pos+1)) for pos in range(n)])"
   ]
  },
  {
   "cell_type": "markdown",
   "metadata": {},
   "source": [
    "### Testing our generator and fitness"
   ]
  },
  {
   "cell_type": "code",
   "execution_count": 5,
   "metadata": {},
   "outputs": [
    {
     "name": "stdout",
     "output_type": "stream",
     "text": [
      "Random solution: fitness 0; [1, 2, 3, 4, 5, 6, 7, 8, 9, 10]\n",
      "Random solution: fitness 0; [1, 2, 3, 4, 5, 6, 7, 8, 9, 10]\n",
      "Random solution: fitness 0; [1, 2, 3, 4, 5, 6, 7, 8, 9, 10]\n",
      "Random solution: fitness 0; [1, 2, 3, 4, 5, 6, 7, 8, 9, 10]\n",
      "Random solution: fitness 0; [1, 2, 3, 4, 5, 6, 7, 8, 9, 10]\n",
      "===\n",
      "Random solution: fitness -18; [2, 6, 3, 1, 5, 7, 9, 8, 10, 4]\n",
      "Random solution: fitness -16; [4, 5, 2, 1, 3, 8, 7, 6, 9, 10]\n",
      "Random solution: fitness -42; [5, 4, 6, 9, 10, 7, 8, 3, 2, 1]\n",
      "Random solution: fitness -20; [1, 4, 5, 3, 6, 7, 9, 10, 8, 2]\n",
      "Random solution: fitness -34; [3, 1, 6, 7, 8, 10, 9, 5, 4, 2]\n",
      "===\n",
      "Random solution: fitness -36; [4, 9, 1, 8, 7, 5, 3, 10, 2, 6]\n",
      "Random solution: fitness -46; [5, 10, 6, 8, 9, 2, 3, 7, 1, 4]\n",
      "Random solution: fitness -32; [4, 3, 6, 10, 8, 5, 1, 7, 9, 2]\n",
      "Random solution: fitness -36; [7, 10, 4, 3, 8, 5, 6, 2, 1, 9]\n",
      "Random solution: fitness -26; [2, 8, 3, 9, 5, 1, 6, 4, 10, 7]\n"
     ]
    }
   ],
   "source": [
    "alpha = 0.0 # completely greedy\n",
    "\n",
    "for i in range(5):\n",
    "    x = randsol()\n",
    "    print(\"Random solution: fitness %d; %s\" % (fitness(x), str(x)))\n",
    "    \n",
    "print(\"===\")    \n",
    "    \n",
    "alpha = 0.5 # half way\n",
    "\n",
    "for i in range(5):\n",
    "    x = randsol()\n",
    "    print(\"Random solution: fitness %d; %s\" % (fitness(x), str(x)))\n",
    "    \n",
    "print(\"===\")    \n",
    "    \n",
    "alpha = 1.0 # completely random\n",
    "\n",
    "for i in range(5):\n",
    "    x = randsol()\n",
    "    print(\"Random solution: fitness %d; %s\" % (fitness(x), str(x)))"
   ]
  },
  {
   "cell_type": "markdown",
   "metadata": {
    "collapsed": true
   },
   "source": [
    "### Optimization\n",
    "\n"
   ]
  },
  {
   "cell_type": "code",
   "execution_count": 7,
   "metadata": {},
   "outputs": [
    {
     "name": "stdout",
     "output_type": "stream",
     "text": [
      "0 [1, 2, 3, 4, 5, 6, 7, 8, 9, 10]\n",
      "-6 [2, 1, 3, 5, 6, 4, 7, 8, 9, 10]\n",
      "-18 [1, 2, 4, 10, 5, 6, 9, 7, 8, 3]\n"
     ]
    }
   ],
   "source": [
    "alpha = 0.0 # completely greedy\n",
    "\n",
    "ind, fit = solve(randsol, fitness, solver=\"RS\")\n",
    "print(fit, ind)\n",
    "\n",
    "alpha = 0.5 # half way\n",
    "\n",
    "ind, fit = solve(randsol, fitness, solver=\"RS\")\n",
    "print(fit, ind)\n",
    "\n",
    "alpha = 1.0 # completely random\n",
    "\n",
    "ind, fit = solve(randsol, fitness, solver=\"RS\")\n",
    "print(fit, ind)"
   ]
  },
  {
   "cell_type": "markdown",
   "metadata": {},
   "source": [
    "### Hyperparameters\n",
    "\n"
   ]
  },
  {
   "cell_type": "code",
   "execution_count": 19,
   "metadata": {},
   "outputs": [
    {
     "name": "stdout",
     "output_type": "stream",
     "text": [
      "0 [1, 2, 3, 4, 5, 6, 7, 8, 9, 10]\n",
      "0 [1, 2, 3, 4, 5, 6, 7, 8, 9, 10]\n",
      "0 [1, 2, 3, 4, 5, 6, 7, 8, 9, 10]\n",
      "0 [1, 2, 3, 4, 5, 6, 7, 8, 9, 10]\n",
      "===\n",
      "-14 [2, 4, 1, 3, 5, 8, 7, 9, 10, 6]\n",
      "-10 [5, 3, 1, 2, 4, 6, 7, 8, 9, 10]\n",
      "-14 [3, 1, 4, 2, 7, 8, 6, 5, 9, 10]\n",
      "-8 [4, 1, 2, 3, 6, 5, 7, 8, 9, 10]\n",
      "===\n",
      "-24 [2, 7, 3, 1, 9, 8, 4, 6, 5, 10]\n",
      "-8 [1, 2, 5, 3, 4, 7, 6, 9, 8, 10]\n",
      "-16 [1, 5, 2, 4, 6, 8, 3, 10, 7, 9]\n",
      "-16 [2, 4, 6, 3, 7, 1, 5, 8, 9, 10]\n"
     ]
    }
   ],
   "source": [
    "alpha = 0.0 # completely greedy\n",
    "\n",
    "ind, fit = solve(randsol, fitness, solver=\"HC\", budget=15)\n",
    "print(fit, ind)\n",
    "ind, fit = solve(randsol, fitness, solver=\"HC\", budget=150)\n",
    "print(fit, ind)\n",
    "ind, fit = solve(randsol, fitness, solver=\"HC\", effort=1)\n",
    "print(fit, ind)\n",
    "ind, fit = solve(randsol, fitness, solver=\"HC\", effort=2)\n",
    "print(fit, ind)\n",
    "\n",
    "print(\"===\") \n",
    "\n",
    "alpha = 0.5 # half way\n",
    "\n",
    "ind, fit = solve(randsol, fitness, solver=\"HC\", budget=15)\n",
    "print(fit, ind)\n",
    "ind, fit = solve(randsol, fitness, solver=\"HC\", budget=150)\n",
    "print(fit, ind)\n",
    "ind, fit = solve(randsol, fitness, solver=\"HC\", effort=1)\n",
    "print(fit, ind)\n",
    "ind, fit = solve(randsol, fitness, solver=\"HC\", effort=2)\n",
    "print(fit, ind)\n",
    "\n",
    "print(\"===\") \n",
    "\n",
    "alpha = 1.0 # completely random\n",
    "\n",
    "ind, fit = solve(randsol, fitness, solver=\"HC\", budget=15)\n",
    "print(fit, ind)\n",
    "ind, fit = solve(randsol, fitness, solver=\"HC\", budget=150)\n",
    "print(fit, ind)\n",
    "ind, fit = solve(randsol, fitness, solver=\"HC\", effort=1)\n",
    "print(fit, ind)\n",
    "ind, fit = solve(randsol, fitness, solver=\"HC\", effort=2)\n",
    "print(fit, ind)\n"
   ]
  },
  {
   "cell_type": "code",
   "execution_count": null,
   "metadata": {},
   "outputs": [],
   "source": []
  }
 ],
 "metadata": {
  "kernelspec": {
   "display_name": "Python 3",
   "language": "python",
   "name": "python3"
  },
  "language_info": {
   "codemirror_mode": {
    "name": "ipython",
    "version": 3
   },
   "file_extension": ".py",
   "mimetype": "text/x-python",
   "name": "python",
   "nbconvert_exporter": "python",
   "pygments_lexer": "ipython3",
   "version": "3.6.6"
  }
 },
 "nbformat": 4,
 "nbformat_minor": 1
}
