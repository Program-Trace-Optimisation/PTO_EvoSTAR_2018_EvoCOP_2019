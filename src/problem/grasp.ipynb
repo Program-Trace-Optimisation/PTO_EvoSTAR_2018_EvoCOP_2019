{
 "cells": [
  {
   "cell_type": "markdown",
   "metadata": {
    "collapsed": true
   },
   "source": [
    "## Program Trace Optimisation: GRASP\n",
    "\n"
   ]
  },
  {
   "cell_type": "code",
   "execution_count": 1,
   "metadata": {
    "collapsed": true
   },
   "outputs": [],
   "source": [
    "from PTO import random, solve"
   ]
  },
  {
   "cell_type": "markdown",
   "metadata": {
    "collapsed": true
   },
   "source": [
    "### Generic GRASP generator\n"
   ]
  },
  {
   "cell_type": "code",
   "execution_count": 2,
   "metadata": {
    "collapsed": true
   },
   "outputs": [],
   "source": [
    "alpha = 0.5 # completely greedy: 0.0, completely random: 1.0 \n",
    "\n",
    "def randsol():\n",
    "  solution = empty_solution()\n",
    "  while(not complete(solution)):\n",
    "    #print(solution)\n",
    "    features = allowed_features(solution)\n",
    "    costs = {feat:cost_feature(solution, feat) for feat in features}\n",
    "    min_cost, max_cost = min(costs.values()), max(costs.values())\n",
    "    RCL = [feat for feat in features if costs[feat] <= min_cost + alpha * (max_cost - min_cost)]\n",
    "    #print(RCL)\n",
    "    selected_feature = random.choice(RCL) # only source of randomness\n",
    "    solution = add_feature(solution, selected_feature)\n",
    "  return solution "
   ]
  },
  {
   "cell_type": "markdown",
   "metadata": {},
   "source": [
    "### Specific GRASP functions for the SORTING problem"
   ]
  },
  {
   "cell_type": "code",
   "execution_count": 4,
   "metadata": {
    "collapsed": true
   },
   "outputs": [],
   "source": [
    "n=10\n",
    "\n",
    "def empty_solution():\n",
    "  return []\n",
    "\n",
    "def complete(solution):\n",
    "  return len(solution)==n\n",
    "\n",
    "def allowed_features(solution):\n",
    "  all_items = range(1,n+1)\n",
    "  remaining_items = [item for item in all_items if item not in solution]\n",
    "  return remaining_items\n",
    "\n",
    "def cost_feature(solution, feat):\n",
    "  last_item = solution[-1] if len(solution)>0 else 0\n",
    "  dist = abs(feat - last_item)\n",
    "  return dist\n",
    "\n",
    "def add_feature(solution, feat):\n",
    "  sol = solution[:] + [feat]\n",
    "  return sol"
   ]
  },
  {
   "cell_type": "markdown",
   "metadata": {},
   "source": [
    "### Fitness function "
   ]
  },
  {
   "cell_type": "code",
   "execution_count": 5,
   "metadata": {
    "collapsed": true
   },
   "outputs": [],
   "source": [
    "def fitness(solution): # cost to minimise, best solution has cost 0\n",
    "  return -sum([abs(solution[pos]-(pos+1)) for pos in range(n)])"
   ]
  },
  {
   "cell_type": "markdown",
   "metadata": {},
   "source": [
    "### Testing our generator and fitness"
   ]
  },
  {
   "cell_type": "code",
   "execution_count": 6,
   "metadata": {},
   "outputs": [
    {
     "name": "stdout",
     "output_type": "stream",
     "text": [
      "Random solution: fitness 0; [1, 2, 3, 4, 5, 6, 7, 8, 9, 10]\n",
      "Random solution: fitness 0; [1, 2, 3, 4, 5, 6, 7, 8, 9, 10]\n",
      "Random solution: fitness 0; [1, 2, 3, 4, 5, 6, 7, 8, 9, 10]\n",
      "Random solution: fitness 0; [1, 2, 3, 4, 5, 6, 7, 8, 9, 10]\n",
      "Random solution: fitness 0; [1, 2, 3, 4, 5, 6, 7, 8, 9, 10]\n",
      "===\n",
      "Random solution: fitness -18; [2, 1, 3, 4, 7, 9, 10, 8, 6, 5]\n",
      "Random solution: fitness -24; [1, 3, 4, 6, 7, 10, 8, 9, 5, 2]\n",
      "Random solution: fitness -26; [2, 3, 4, 5, 8, 10, 9, 6, 7, 1]\n",
      "Random solution: fitness -24; [5, 2, 6, 3, 1, 7, 9, 10, 8, 4]\n",
      "Random solution: fitness -40; [3, 6, 9, 10, 7, 4, 5, 2, 1, 8]\n",
      "===\n",
      "Random solution: fitness -32; [1, 5, 9, 2, 10, 8, 4, 3, 6, 7]\n",
      "Random solution: fitness -44; [10, 7, 2, 8, 9, 4, 3, 5, 1, 6]\n",
      "Random solution: fitness -40; [7, 8, 10, 5, 4, 6, 1, 2, 3, 9]\n",
      "Random solution: fitness -28; [1, 5, 9, 4, 10, 6, 7, 2, 3, 8]\n",
      "Random solution: fitness -42; [7, 10, 8, 1, 4, 5, 9, 2, 6, 3]\n"
     ]
    }
   ],
   "source": [
    "alpha = 0.0 # completely greedy\n",
    "\n",
    "for i in range(5):\n",
    "    x = randsol()\n",
    "    print(\"Random solution: fitness %d; %s\" % (fitness(x), str(x)))\n",
    "    \n",
    "print(\"===\")    \n",
    "    \n",
    "alpha = 0.5 # half way\n",
    "\n",
    "for i in range(5):\n",
    "    x = randsol()\n",
    "    print(\"Random solution: fitness %d; %s\" % (fitness(x), str(x)))\n",
    "    \n",
    "print(\"===\")    \n",
    "    \n",
    "alpha = 1.0 # completely random\n",
    "\n",
    "for i in range(5):\n",
    "    x = randsol()\n",
    "    print(\"Random solution: fitness %d; %s\" % (fitness(x), str(x)))"
   ]
  },
  {
   "cell_type": "markdown",
   "metadata": {
    "collapsed": true
   },
   "source": [
    "### Optimization\n",
    "\n"
   ]
  },
  {
   "cell_type": "code",
   "execution_count": 6,
   "metadata": {},
   "outputs": [
    {
     "name": "stdout",
     "output_type": "stream",
     "text": [
      "0 [1, 2, 3, 4, 5, 6, 7, 8, 9, 10]\n",
      "-8 [2, 1, 3, 6, 4, 5, 8, 7, 9, 10]\n",
      "-18 [1, 4, 3, 6, 2, 8, 10, 5, 7, 9]\n"
     ]
    }
   ],
   "source": [
    "alpha = 0.0 # completely greedy\n",
    "\n",
    "ind, fit = solve(randsol, fitness, solver=\"RS\")\n",
    "print(fit, ind)\n",
    "\n",
    "alpha = 0.5 # half way\n",
    "\n",
    "ind, fit = solve(randsol, fitness, solver=\"RS\")\n",
    "print(fit, ind)\n",
    "\n",
    "alpha = 1.0 # completely random\n",
    "\n",
    "ind, fit = solve(randsol, fitness, solver=\"RS\")\n",
    "print(fit, ind)"
   ]
  },
  {
   "cell_type": "markdown",
   "metadata": {},
   "source": [
    "### Hyperparameters\n",
    "\n"
   ]
  },
  {
   "cell_type": "code",
   "execution_count": 7,
   "metadata": {},
   "outputs": [
    {
     "name": "stdout",
     "output_type": "stream",
     "text": [
      "0 [1, 2, 3, 4, 5, 6, 7, 8, 9, 10]\n",
      "0 [1, 2, 3, 4, 5, 6, 7, 8, 9, 10]\n",
      "0 [1, 2, 3, 4, 5, 6, 7, 8, 9, 10]\n",
      "0 [1, 2, 3, 4, 5, 6, 7, 8, 9, 10]\n",
      "===\n",
      "-26 [5, 8, 4, 6, 3, 2, 1, 7, 9, 10]\n",
      "-4 [1, 2, 3, 5, 4, 6, 7, 9, 8, 10]\n",
      "-6 [3, 2, 1, 4, 5, 6, 8, 7, 9, 10]\n",
      "-8 [1, 3, 2, 5, 6, 4, 8, 7, 9, 10]\n",
      "===\n",
      "-24 [7, 4, 5, 2, 3, 6, 9, 8, 1, 10]\n",
      "-6 [1, 2, 6, 4, 3, 5, 7, 8, 9, 10]\n",
      "-38 [9, 6, 10, 4, 1, 5, 2, 7, 3, 8]\n",
      "-8 [2, 1, 3, 6, 5, 7, 4, 8, 9, 10]\n"
     ]
    }
   ],
   "source": [
    "alpha = 0.0 # completely greedy\n",
    "\n",
    "ind, fit = solve(randsol, fitness, solver=\"HC\", budget=15)\n",
    "print(fit, ind)\n",
    "ind, fit = solve(randsol, fitness, solver=\"HC\", budget=150)\n",
    "print(fit, ind)\n",
    "ind, fit = solve(randsol, fitness, solver=\"HC\", effort=1)\n",
    "print(fit, ind)\n",
    "ind, fit = solve(randsol, fitness, solver=\"HC\", effort=2)\n",
    "print(fit, ind)\n",
    "\n",
    "print(\"===\") \n",
    "\n",
    "alpha = 0.5 # half way\n",
    "\n",
    "ind, fit = solve(randsol, fitness, solver=\"HC\", budget=15)\n",
    "print(fit, ind)\n",
    "ind, fit = solve(randsol, fitness, solver=\"HC\", budget=150)\n",
    "print(fit, ind)\n",
    "ind, fit = solve(randsol, fitness, solver=\"HC\", effort=1)\n",
    "print(fit, ind)\n",
    "ind, fit = solve(randsol, fitness, solver=\"HC\", effort=2)\n",
    "print(fit, ind)\n",
    "\n",
    "print(\"===\") \n",
    "\n",
    "alpha = 1.0 # completely random\n",
    "\n",
    "ind, fit = solve(randsol, fitness, solver=\"HC\", budget=15)\n",
    "print(fit, ind)\n",
    "ind, fit = solve(randsol, fitness, solver=\"HC\", budget=150)\n",
    "print(fit, ind)\n",
    "ind, fit = solve(randsol, fitness, solver=\"HC\", effort=1)\n",
    "print(fit, ind)\n",
    "ind, fit = solve(randsol, fitness, solver=\"HC\", effort=2)\n",
    "print(fit, ind)\n"
   ]
  },
  {
   "cell_type": "markdown",
   "metadata": {},
   "source": [
    "### Specific GRASP functions for the TSP problem"
   ]
  },
  {
   "cell_type": "code",
   "execution_count": 8,
   "metadata": {
    "collapsed": true
   },
   "outputs": [],
   "source": [
    "#alpha = 0.7\n",
    "\n",
    "n = 10\n",
    "#dist = [[0, 20, 42, 35], [20, 0, 30, 34], [42, 30, 0, 12], [35, 34, 12, 0]]\n",
    "dist = [[random.random() for i in range(n)] for j in range(n)]\n",
    "#print(dist)\n",
    "\n",
    "def empty_solution():\n",
    "  return [0] # start tour always from first city \n",
    "\n",
    "def complete(solution):\n",
    "  return len(solution)==n\n",
    "\n",
    "def allowed_features(solution):\n",
    "  all_items = range(n)\n",
    "  remaining_items = [item for item in all_items if item not in solution]\n",
    "  return remaining_items\n",
    "\n",
    "def cost_feature(solution, feat):\n",
    "  last_city = solution[-1]\n",
    "  d = dist[last_city][feat]\n",
    "  return d\n",
    "\n",
    "def add_feature(solution, feat):\n",
    "  sol = solution[:] + [feat]\n",
    "  return sol\n",
    "\n",
    " "
   ]
  },
  {
   "cell_type": "markdown",
   "metadata": {},
   "source": [
    "### Fitness function "
   ]
  },
  {
   "cell_type": "code",
   "execution_count": 9,
   "metadata": {
    "collapsed": true
   },
   "outputs": [],
   "source": [
    "def fitness(solution):\n",
    "  return -(sum([dist[solution[pos]][solution[pos+1]] for pos in range(n-1)]) + dist[solution[0]][solution[-1]])\n"
   ]
  },
  {
   "cell_type": "markdown",
   "metadata": {},
   "source": [
    "### Testing our generator and fitness"
   ]
  },
  {
   "cell_type": "code",
   "execution_count": 10,
   "metadata": {},
   "outputs": [
    {
     "name": "stdout",
     "output_type": "stream",
     "text": [
      "Random solution: fitness -2.317758; [0, 2, 9, 6, 5, 7, 3, 8, 1, 4]\n",
      "Random solution: fitness -2.317758; [0, 2, 9, 6, 5, 7, 3, 8, 1, 4]\n",
      "Random solution: fitness -2.317758; [0, 2, 9, 6, 5, 7, 3, 8, 1, 4]\n",
      "Random solution: fitness -2.317758; [0, 2, 9, 6, 5, 7, 3, 8, 1, 4]\n",
      "Random solution: fitness -2.317758; [0, 2, 9, 6, 5, 7, 3, 8, 1, 4]\n",
      "===\n",
      "Random solution: fitness -2.729305; [0, 3, 6, 4, 5, 7, 1, 8, 9, 2]\n",
      "Random solution: fitness -3.399034; [0, 7, 9, 3, 8, 5, 6, 2, 4, 1]\n",
      "Random solution: fitness -2.247681; [0, 3, 6, 2, 9, 8, 5, 7, 4, 1]\n",
      "Random solution: fitness -3.501207; [0, 7, 3, 6, 5, 2, 9, 8, 1, 4]\n",
      "Random solution: fitness -2.756809; [0, 2, 9, 5, 1, 4, 7, 8, 6, 3]\n",
      "===\n",
      "Random solution: fitness -2.597577; [0, 1, 8, 6, 2, 9, 4, 5, 7, 3]\n",
      "Random solution: fitness -5.846406; [0, 8, 6, 9, 4, 1, 3, 5, 2, 7]\n",
      "Random solution: fitness -5.219717; [0, 1, 2, 6, 4, 3, 9, 7, 8, 5]\n",
      "Random solution: fitness -5.252834; [0, 7, 4, 1, 9, 8, 5, 3, 2, 6]\n",
      "Random solution: fitness -6.425563; [0, 3, 7, 5, 8, 2, 4, 6, 9, 1]\n"
     ]
    }
   ],
   "source": [
    "\n",
    "alpha = 0.0 # completely greedy\n",
    "\n",
    "for i in range(5):\n",
    "    x = randsol()\n",
    "    print(\"Random solution: fitness %f; %s\" % (fitness(x), str(x)))\n",
    "    \n",
    "print(\"===\")    \n",
    "    \n",
    "alpha = 0.5 # half way\n",
    "\n",
    "for i in range(5):\n",
    "    x = randsol()\n",
    "    print(\"Random solution: fitness %f; %s\" % (fitness(x), str(x)))\n",
    "    \n",
    "print(\"===\")    \n",
    "    \n",
    "alpha = 1.0 # completely random\n",
    "\n",
    "for i in range(5):\n",
    "    x = randsol()\n",
    "    print(\"Random solution: fitness %f; %s\" % (fitness(x), str(x)))\n",
    "\n",
    "\n",
    "\n"
   ]
  },
  {
   "cell_type": "markdown",
   "metadata": {},
   "source": [
    "### Optimization"
   ]
  },
  {
   "cell_type": "code",
   "execution_count": 11,
   "metadata": {},
   "outputs": [
    {
     "name": "stdout",
     "output_type": "stream",
     "text": [
      "-2.3177580292023183 [0, 2, 9, 6, 5, 7, 3, 8, 1, 4]\n",
      "-2.105191631604303 [0, 2, 9, 3, 6, 8, 5, 7, 4, 1]\n",
      "-3.9973340261793124 [0, 1, 4, 2, 7, 3, 9, 5, 6, 8]\n"
     ]
    }
   ],
   "source": [
    "\n",
    "alpha = 0.0 # completely greedy\n",
    "\n",
    "ind, fit = solve(randsol, fitness, solver=\"RS\")\n",
    "print(fit, ind)\n",
    "\n",
    "alpha = 0.5 # half way\n",
    "\n",
    "ind, fit = solve(randsol, fitness, solver=\"RS\")\n",
    "print(fit, ind)\n",
    "\n",
    "alpha = 1.0 # completely random\n",
    "\n",
    "ind, fit = solve(randsol, fitness, solver=\"RS\")\n",
    "print(fit, ind)"
   ]
  },
  {
   "cell_type": "markdown",
   "metadata": {},
   "source": [
    "### Hyperparameters"
   ]
  },
  {
   "cell_type": "code",
   "execution_count": 12,
   "metadata": {},
   "outputs": [
    {
     "name": "stdout",
     "output_type": "stream",
     "text": [
      "-2.3177580292023183 [0, 2, 9, 6, 5, 7, 3, 8, 1, 4]\n",
      "-2.3177580292023183 [0, 2, 9, 6, 5, 7, 3, 8, 1, 4]\n",
      "-2.3177580292023183 [0, 2, 9, 6, 5, 7, 3, 8, 1, 4]\n",
      "-2.3177580292023183 [0, 2, 9, 6, 5, 7, 3, 8, 1, 4]\n",
      "===\n",
      "-2.3217550128944033 [0, 1, 8, 5, 6, 4, 7, 3, 9, 2]\n",
      "-2.09568529946576 [0, 2, 9, 3, 6, 4, 5, 7, 8, 1]\n",
      "-2.448973468673196 [0, 3, 8, 5, 6, 2, 9, 4, 7, 1]\n",
      "-2.2759801858520037 [0, 2, 9, 3, 8, 5, 7, 1, 6, 4]\n",
      "===\n",
      "-4.019369026792243 [0, 3, 5, 2, 6, 9, 4, 7, 8, 1]\n",
      "-2.869794475406139 [0, 4, 7, 5, 2, 9, 6, 3, 8, 1]\n",
      "-4.0435252048381916 [0, 3, 1, 8, 6, 4, 5, 9, 7, 2]\n",
      "-3.51355168260661 [0, 7, 1, 8, 5, 9, 3, 6, 4, 2]\n"
     ]
    }
   ],
   "source": [
    "\n",
    "alpha = 0.0 # completely greedy\n",
    "\n",
    "ind, fit = solve(randsol, fitness, solver=\"HC\", budget=15)\n",
    "print(fit, ind)\n",
    "ind, fit = solve(randsol, fitness, solver=\"HC\", budget=150)\n",
    "print(fit, ind)\n",
    "ind, fit = solve(randsol, fitness, solver=\"HC\", effort=1)\n",
    "print(fit, ind)\n",
    "ind, fit = solve(randsol, fitness, solver=\"HC\", effort=2)\n",
    "print(fit, ind)\n",
    "\n",
    "print(\"===\") \n",
    "\n",
    "alpha = 0.5 # half way\n",
    "\n",
    "ind, fit = solve(randsol, fitness, solver=\"HC\", budget=15)\n",
    "print(fit, ind)\n",
    "ind, fit = solve(randsol, fitness, solver=\"HC\", budget=150)\n",
    "print(fit, ind)\n",
    "ind, fit = solve(randsol, fitness, solver=\"HC\", effort=1)\n",
    "print(fit, ind)\n",
    "ind, fit = solve(randsol, fitness, solver=\"HC\", effort=2)\n",
    "print(fit, ind)\n",
    "\n",
    "print(\"===\") \n",
    "\n",
    "alpha = 1.0 # completely random\n",
    "\n",
    "ind, fit = solve(randsol, fitness, solver=\"HC\", budget=15)\n",
    "print(fit, ind)\n",
    "ind, fit = solve(randsol, fitness, solver=\"HC\", budget=150)\n",
    "print(fit, ind)\n",
    "ind, fit = solve(randsol, fitness, solver=\"HC\", effort=1)\n",
    "print(fit, ind)\n",
    "ind, fit = solve(randsol, fitness, solver=\"HC\", effort=2)\n",
    "print(fit, ind)\n"
   ]
  },
  {
   "cell_type": "markdown",
   "metadata": {},
   "source": [
    "### Specific GRASP functions for the KNAPSACK problem"
   ]
  },
  {
   "cell_type": "code",
   "execution_count": 36,
   "metadata": {},
   "outputs": [
    {
     "name": "stdout",
     "output_type": "stream",
     "text": [
      "[64, 82, 51, 16, 37, 2, 27, 71, 97, 2, 66, 56, 40, 70, 36, 89, 78, 55, 18, 66]\n",
      "[1, 2, 3, 4, 5, 6, 7, 8, 9, 10, 11, 12, 13, 14, 15, 16, 17, 18, 19, 20]\n"
     ]
    }
   ],
   "source": [
    "#n = 3\n",
    "#val = [60, 100, 120] # values \n",
    "#wt = [10, 20, 30] # weights \n",
    "#W = 50 # capacity\n",
    "\n",
    "n = 20\n",
    "val = [random.randint(1,100) for i in range(n)]\n",
    "wt = list(range(1,n+1))\n",
    "W = 2*n\n",
    "print(val)\n",
    "print(wt)\n",
    "\n",
    "\n",
    "def empty_solution():\n",
    "  return []  \n",
    "\n",
    "def complete(solution):\n",
    "  weight = sum([wt[item] for item in solution])\n",
    "  min_weight_left = min([wt[item] for item in range(n) if item not in solution])\n",
    "  return len(solution)==n or (weight + min_weight_left) > W\n",
    "\n",
    "def allowed_features(solution):\n",
    "  all_items = range(n)\n",
    "  remaining_items = [item for item in all_items if item not in solution]\n",
    "  weight = sum([wt[item] for item in solution])\n",
    "  fitting_items = [item for item in remaining_items if (weight + wt[item]) <= W]\n",
    "  return fitting_items\n",
    "\n",
    "def cost_feature(solution, feat):\n",
    "  return -val[feat] # heuristic 1 (-val as this is a cost)\n",
    "  #return -val[feat]/wt[feat] # heuristic 2\n",
    "\n",
    "def add_feature(solution, feat):\n",
    "  sol = solution[:] + [feat]\n",
    "  return sol\n",
    "\n",
    "\n"
   ]
  },
  {
   "cell_type": "markdown",
   "metadata": {},
   "source": [
    "### Fitness function "
   ]
  },
  {
   "cell_type": "code",
   "execution_count": 37,
   "metadata": {
    "collapsed": true
   },
   "outputs": [],
   "source": [
    "def fitness(solution):\n",
    "  return sum([val[item] for item in solution])\n"
   ]
  },
  {
   "cell_type": "markdown",
   "metadata": {},
   "source": [
    "### Testing our generator and fitness"
   ]
  },
  {
   "cell_type": "code",
   "execution_count": 38,
   "metadata": {},
   "outputs": [
    {
     "name": "stdout",
     "output_type": "stream",
     "text": [
      "Random solution: fitness 454.000000; [8, 15, 1, 7, 0, 2]\n",
      "Random solution: fitness 454.000000; [8, 15, 1, 7, 0, 2]\n",
      "Random solution: fitness 454.000000; [8, 15, 1, 7, 0, 2]\n",
      "Random solution: fitness 454.000000; [8, 15, 1, 7, 0, 2]\n",
      "Random solution: fitness 454.000000; [8, 15, 1, 7, 0, 2]\n",
      "===\n",
      "Random solution: fitness 454.000000; [8, 15, 2, 1, 7, 0]\n",
      "Random solution: fitness 341.000000; [1, 17, 0, 15, 2]\n",
      "Random solution: fitness 312.000000; [15, 7, 13, 1]\n",
      "Random solution: fitness 379.000000; [11, 2, 1, 15, 4, 0]\n",
      "Random solution: fitness 454.000000; [7, 2, 15, 0, 1, 8]\n",
      "===\n",
      "Random solution: fitness 250.000000; [10, 14, 1, 9, 0]\n",
      "Random solution: fitness 348.000000; [8, 0, 9, 10, 1, 4]\n",
      "Random solution: fitness 203.000000; [4, 12, 8, 5, 6]\n",
      "Random solution: fitness 189.000000; [6, 17, 11, 2]\n",
      "Random solution: fitness 296.000000; [13, 5, 16, 1, 0]\n"
     ]
    }
   ],
   "source": [
    "\n",
    "alpha = 0.0 # completely greedy\n",
    "\n",
    "for i in range(5):\n",
    "    x = randsol()\n",
    "    print(\"Random solution: fitness %f; %s\" % (fitness(x), str(x)))\n",
    "    \n",
    "print(\"===\")    \n",
    "    \n",
    "alpha = 0.5 # half way\n",
    "\n",
    "for i in range(5):\n",
    "    x = randsol()\n",
    "    print(\"Random solution: fitness %f; %s\" % (fitness(x), str(x)))\n",
    "    \n",
    "print(\"===\")    \n",
    "    \n",
    "alpha = 1.0 # completely random\n",
    "\n",
    "for i in range(5):\n",
    "    x = randsol()\n",
    "    print(\"Random solution: fitness %f; %s\" % (fitness(x), str(x)))\n",
    "\n",
    "\n",
    "\n"
   ]
  },
  {
   "cell_type": "markdown",
   "metadata": {},
   "source": [
    "### Optimization"
   ]
  },
  {
   "cell_type": "code",
   "execution_count": 39,
   "metadata": {},
   "outputs": [
    {
     "name": "stdout",
     "output_type": "stream",
     "text": [
      "454 [8, 15, 1, 7, 0, 2]\n",
      "468 [1, 2, 7, 8, 10, 4, 0]\n",
      "347 [7, 8, 13, 6, 1]\n"
     ]
    }
   ],
   "source": [
    "\n",
    "alpha = 0.0 # completely greedy\n",
    "\n",
    "ind, fit = solve(randsol, fitness, solver=\"RS\")\n",
    "print(fit, ind)\n",
    "\n",
    "alpha = 0.5 # half way\n",
    "\n",
    "ind, fit = solve(randsol, fitness, solver=\"RS\")\n",
    "print(fit, ind)\n",
    "\n",
    "alpha = 1.0 # completely random\n",
    "\n",
    "ind, fit = solve(randsol, fitness, solver=\"RS\")\n",
    "print(fit, ind)"
   ]
  },
  {
   "cell_type": "markdown",
   "metadata": {},
   "source": [
    "### Hyperparameters"
   ]
  },
  {
   "cell_type": "code",
   "execution_count": 40,
   "metadata": {},
   "outputs": [
    {
     "name": "stdout",
     "output_type": "stream",
     "text": [
      "454 [8, 15, 1, 7, 0, 2]\n",
      "454 [8, 15, 1, 7, 0, 2]\n",
      "454 [8, 15, 1, 7, 0, 2]\n",
      "454 [8, 15, 1, 7, 0, 2]\n",
      "===\n",
      "435 [8, 13, 0, 7, 2, 1]\n",
      "468 [7, 2, 1, 8, 10, 0, 4]\n",
      "443 [1, 16, 7, 2, 0, 8]\n",
      "458 [11, 7, 1, 2, 0, 8, 4]\n",
      "===\n",
      "380 [8, 19, 7, 0, 1]\n",
      "387 [0, 14, 7, 4, 8, 1]\n",
      "447 [10, 3, 8, 1, 0, 7, 2]\n",
      "371 [2, 7, 4, 19, 1, 0]\n"
     ]
    }
   ],
   "source": [
    "\n",
    "alpha = 0.0 # completely greedy\n",
    "\n",
    "ind, fit = solve(randsol, fitness, solver=\"HC\", budget=15)\n",
    "print(fit, ind)\n",
    "ind, fit = solve(randsol, fitness, solver=\"HC\", budget=150)\n",
    "print(fit, ind)\n",
    "ind, fit = solve(randsol, fitness, solver=\"HC\", effort=1)\n",
    "print(fit, ind)\n",
    "ind, fit = solve(randsol, fitness, solver=\"HC\", effort=2)\n",
    "print(fit, ind)\n",
    "\n",
    "print(\"===\") \n",
    "\n",
    "alpha = 0.5 # half way\n",
    "\n",
    "ind, fit = solve(randsol, fitness, solver=\"HC\", budget=15)\n",
    "print(fit, ind)\n",
    "ind, fit = solve(randsol, fitness, solver=\"HC\", budget=150)\n",
    "print(fit, ind)\n",
    "ind, fit = solve(randsol, fitness, solver=\"HC\", effort=1)\n",
    "print(fit, ind)\n",
    "ind, fit = solve(randsol, fitness, solver=\"HC\", effort=2)\n",
    "print(fit, ind)\n",
    "\n",
    "print(\"===\") \n",
    "\n",
    "alpha = 1.0 # completely random\n",
    "\n",
    "ind, fit = solve(randsol, fitness, solver=\"HC\", budget=15)\n",
    "print(fit, ind)\n",
    "ind, fit = solve(randsol, fitness, solver=\"HC\", budget=150)\n",
    "print(fit, ind)\n",
    "ind, fit = solve(randsol, fitness, solver=\"HC\", effort=1)\n",
    "print(fit, ind)\n",
    "ind, fit = solve(randsol, fitness, solver=\"HC\", effort=2)\n",
    "print(fit, ind)\n"
   ]
  },
  {
   "cell_type": "markdown",
   "metadata": {},
   "source": [
    "### Specific GRASP functions for the JSSP problem"
   ]
  },
  {
   "cell_type": "code",
   "execution_count": 13,
   "metadata": {},
   "outputs": [
    {
     "name": "stdout",
     "output_type": "stream",
     "text": [
      "[[(4, 30), (0, 30)], [(3, 50), (0, 50), (4, 20), (2, 40), (5, 40), (1, 40)], [(0, 20), (1, 50), (4, 40), (5, 40), (2, 30), (3, 20)], [(2, 40), (4, 40), (3, 40), (1, 20), (5, 50), (0, 20)]]\n"
     ]
    }
   ],
   "source": [
    "# 3 jobs, 3 machines\n",
    "\n",
    "problem = [[(0,3), (1,2), (2,2)],\n",
    "           [(0,2), (2,1), (1,4)],\n",
    "           [(1,4), (2,3)]]\n",
    "\n",
    "# Each sub-list is a job (a sequence of operations).\n",
    "# Each pair gives the machine the operation has to be processed on, and the time it takes.\n",
    "\n",
    "def randprob(n, m): # n jobs on m machines\n",
    "    prob = []\n",
    "    for i in range(n):\n",
    "        nmachines = random.randrange(1, m+1)\n",
    "        machines = random.sample(range(m), nmachines)\n",
    "        job = [(machine, (1 + random.randrange(1,5))*10)\n",
    "               for machine in machines]\n",
    "        prob.append(job)\n",
    "    return prob\n",
    "\n",
    "problem = randprob(4, 6)\n",
    "print(problem)\n",
    "\n",
    "def empty_solution():\n",
    "    # Global variables keep track of the schedule under construction\n",
    "    global jobs, machines, term_mac, term_job\n",
    "    jobs = [list(job) for job in problem]\n",
    "    machines = {} # dictionary of machines\n",
    "    term_mac = {} # termination times on machines\n",
    "    term_job = {} # termination times of jobs\n",
    "    \n",
    "    return {}\n",
    "\n",
    "def complete(solution):\n",
    "    #print(solution)\n",
    "    return all(job == [] for job in jobs)\n",
    "\n",
    "def allowed_features(solution):\n",
    "    job_inds = [ i for i in range(len(jobs)) if jobs[i] != [] ]\n",
    "    #print(job_inds)\n",
    "    return job_inds\n",
    "\n",
    "def cost_feature(solution, feat):\n",
    "    makespan = max([solution[mac][-1][2] for mac in solution]) if solution != {} else 0\n",
    "\n",
    "    op = jobs[feat][0]\n",
    "    if ((feat not in term_job) or (op[0] not in term_mac)):\n",
    "        term_op = op[1]\n",
    "    else:\n",
    "        term_op = max(term_job[feat],term_mac[op[0]])+op[1]\n",
    "\n",
    "    #print(term_op - makespan)\n",
    "    return term_op - makespan\n",
    "\n",
    "def add_feature(solution, feat):\n",
    "    op, jobs[feat] = jobs[feat][0], jobs[feat][1:]\n",
    "\n",
    "    if (feat not in term_job):\n",
    "        term_job[feat] = 0 # initialise dictionary\n",
    "    if (op[0] not in term_mac):\n",
    "        term_mac[op[0]] = 0 # initialise dictionary\n",
    "\n",
    "    term_op = max(term_job[feat],term_mac[op[0]])+op[1]\n",
    "    term_job[feat]=term_op\n",
    "    term_mac[op[0]]=term_op\n",
    "\n",
    "    #machines = solution.copy()\n",
    "    if op[0] not in machines: # if machine of current operation not in dictionary\n",
    "        machines[op[0]] = [(feat, op[0], term_op)] # for each op: (job, mac, term)\n",
    "    else:\n",
    "        machines[op[0]].append((feat, op[0], term_op))\n",
    "\n",
    "    return machines\n",
    "\n"
   ]
  },
  {
   "cell_type": "markdown",
   "metadata": {},
   "source": [
    "### Fitness function"
   ]
  },
  {
   "cell_type": "code",
   "execution_count": 14,
   "metadata": {
    "collapsed": true
   },
   "outputs": [],
   "source": [
    "def fitness(solution): # makespan: maximum of termination times on machines\n",
    "    # PTO always maximises, but we want small makespan, so use -max\n",
    "    return -max([solution[mac][-1][2] for mac in solution])\n"
   ]
  },
  {
   "cell_type": "markdown",
   "metadata": {},
   "source": [
    "### Testing our generator and fitness"
   ]
  },
  {
   "cell_type": "code",
   "execution_count": 15,
   "metadata": {},
   "outputs": [
    {
     "name": "stdout",
     "output_type": "stream",
     "text": [
      "Random solution: fitness -290.000000; {0: [(2, 0, 20), (0, 0, 60), (1, 0, 110), (3, 0, 230)], 4: [(0, 4, 30), (3, 4, 80), (2, 4, 120), (1, 4, 140)], 2: [(3, 2, 40), (1, 2, 180), (2, 2, 210)], 1: [(2, 1, 70), (3, 1, 140), (1, 1, 290)], 3: [(1, 3, 50), (3, 3, 120), (2, 3, 230)], 5: [(2, 5, 160), (3, 5, 210), (1, 5, 250)]}\n",
      "Random solution: fitness -290.000000; {0: [(2, 0, 20), (0, 0, 60), (1, 0, 110), (3, 0, 230)], 4: [(0, 4, 30), (3, 4, 80), (2, 4, 120), (1, 4, 140)], 2: [(3, 2, 40), (1, 2, 180), (2, 2, 210)], 1: [(2, 1, 70), (3, 1, 140), (1, 1, 290)], 3: [(1, 3, 50), (3, 3, 120), (2, 3, 230)], 5: [(2, 5, 160), (3, 5, 210), (1, 5, 250)]}\n",
      "Random solution: fitness -290.000000; {0: [(2, 0, 20), (0, 0, 60), (1, 0, 110), (3, 0, 230)], 4: [(0, 4, 30), (3, 4, 80), (2, 4, 120), (1, 4, 140)], 2: [(3, 2, 40), (1, 2, 180), (2, 2, 210)], 3: [(1, 3, 50), (3, 3, 120), (2, 3, 230)], 1: [(2, 1, 70), (3, 1, 140), (1, 1, 290)], 5: [(2, 5, 160), (3, 5, 210), (1, 5, 250)]}\n",
      "Random solution: fitness -290.000000; {0: [(2, 0, 20), (0, 0, 60), (1, 0, 110), (3, 0, 230)], 4: [(0, 4, 30), (3, 4, 80), (2, 4, 120), (1, 4, 140)], 2: [(3, 2, 40), (1, 2, 180), (2, 2, 210)], 3: [(1, 3, 50), (3, 3, 120), (2, 3, 230)], 1: [(2, 1, 70), (3, 1, 140), (1, 1, 290)], 5: [(2, 5, 160), (3, 5, 210), (1, 5, 250)]}\n",
      "Random solution: fitness -290.000000; {0: [(2, 0, 20), (0, 0, 60), (1, 0, 110), (3, 0, 230)], 4: [(0, 4, 30), (3, 4, 80), (2, 4, 120), (1, 4, 140)], 2: [(3, 2, 40), (1, 2, 180), (2, 2, 210)], 1: [(2, 1, 70), (3, 1, 140), (1, 1, 290)], 3: [(1, 3, 50), (3, 3, 120), (2, 3, 230)], 5: [(2, 5, 160), (3, 5, 210), (1, 5, 250)]}\n",
      "===\n",
      "Random solution: fitness -320.000000; {4: [(0, 4, 30), (3, 4, 80), (2, 4, 170), (1, 4, 190)], 0: [(0, 0, 60), (2, 0, 80), (1, 0, 130), (3, 0, 220)], 2: [(3, 2, 40), (1, 2, 230), (2, 2, 270)], 3: [(1, 3, 50), (3, 3, 120), (2, 3, 290)], 1: [(2, 1, 130), (3, 1, 150), (1, 1, 320)], 5: [(3, 5, 200), (2, 5, 240), (1, 5, 280)]}\n",
      "Random solution: fitness -380.000000; {0: [(2, 0, 20), (0, 0, 140), (1, 0, 220), (3, 0, 240)], 2: [(3, 2, 40), (2, 2, 260), (1, 2, 300)], 4: [(3, 4, 80), (0, 4, 110), (2, 4, 150), (1, 4, 240)], 3: [(3, 3, 120), (1, 3, 170), (2, 3, 280)], 1: [(2, 1, 70), (3, 1, 140), (1, 1, 380)], 5: [(3, 5, 190), (2, 5, 230), (1, 5, 340)]}\n",
      "Random solution: fitness -380.000000; {0: [(2, 0, 20), (0, 0, 140), (1, 0, 220), (3, 0, 240)], 2: [(3, 2, 40), (2, 2, 260), (1, 2, 300)], 4: [(3, 4, 80), (0, 4, 110), (2, 4, 150), (1, 4, 240)], 3: [(3, 3, 120), (1, 3, 170), (2, 3, 280)], 1: [(2, 1, 70), (3, 1, 140), (1, 1, 380)], 5: [(3, 5, 190), (2, 5, 230), (1, 5, 340)]}\n",
      "Random solution: fitness -330.000000; {4: [(0, 4, 30), (3, 4, 80), (1, 4, 150), (2, 4, 190)], 0: [(0, 0, 60), (2, 0, 80), (1, 0, 130), (3, 0, 220)], 2: [(3, 2, 40), (1, 2, 190), (2, 2, 310)], 1: [(2, 1, 130), (3, 1, 150), (1, 1, 280)], 3: [(1, 3, 50), (3, 3, 120), (2, 3, 330)], 5: [(3, 5, 200), (1, 5, 240), (2, 5, 280)]}\n",
      "Random solution: fitness -290.000000; {4: [(0, 4, 30), (3, 4, 80), (2, 4, 120), (1, 4, 140)], 0: [(2, 0, 20), (0, 0, 60), (1, 0, 110), (3, 0, 230)], 2: [(3, 2, 40), (1, 2, 180), (2, 2, 210)], 3: [(1, 3, 50), (3, 3, 120), (2, 3, 230)], 1: [(2, 1, 70), (3, 1, 140), (1, 1, 290)], 5: [(2, 5, 160), (3, 5, 210), (1, 5, 250)]}\n",
      "===\n",
      "Random solution: fitness -410.000000; {3: [(1, 3, 50), (3, 3, 210), (2, 3, 410)], 0: [(2, 0, 20), (1, 0, 100), (0, 0, 230), (3, 0, 340)], 1: [(2, 1, 70), (1, 1, 250), (3, 1, 270)], 2: [(3, 2, 40), (1, 2, 170), (2, 2, 390)], 4: [(2, 4, 110), (1, 4, 130), (3, 4, 170), (0, 4, 200)], 5: [(1, 5, 210), (3, 5, 320), (2, 5, 360)]}\n",
      "Random solution: fitness -380.000000; {4: [(0, 4, 30), (3, 4, 80), (2, 4, 210), (1, 4, 230)], 3: [(1, 3, 50), (3, 3, 120), (2, 3, 320)], 2: [(3, 2, 40), (1, 2, 270), (2, 2, 300)], 0: [(1, 0, 100), (2, 0, 120), (0, 0, 150), (3, 0, 380)], 1: [(2, 1, 170), (3, 1, 190), (1, 1, 350)], 5: [(2, 5, 250), (1, 5, 310), (3, 5, 360)]}\n",
      "Random solution: fitness -400.000000; {3: [(1, 3, 50), (3, 3, 200), (2, 3, 400)], 0: [(1, 0, 100), (2, 0, 120), (0, 0, 150), (3, 0, 330)], 4: [(0, 4, 30), (1, 4, 120), (3, 4, 160), (2, 4, 210)], 2: [(3, 2, 40), (1, 2, 160), (2, 2, 380)], 1: [(2, 1, 170), (1, 1, 240), (3, 1, 260)], 5: [(1, 5, 200), (3, 5, 310), (2, 5, 350)]}\n",
      "Random solution: fitness -420.000000; {0: [(2, 0, 20), (1, 0, 100), (3, 0, 210), (0, 0, 240)], 3: [(1, 3, 50), (3, 3, 120), (2, 3, 420)], 2: [(3, 2, 40), (1, 2, 290), (2, 2, 400)], 4: [(3, 4, 80), (0, 4, 110), (2, 4, 230), (1, 4, 250)], 1: [(3, 1, 140), (2, 1, 190), (1, 1, 370)], 5: [(3, 5, 190), (1, 5, 330), (2, 5, 370)]}\n",
      "Random solution: fitness -390.000000; {3: [(1, 3, 50), (2, 3, 200), (3, 3, 240)], 0: [(2, 0, 20), (1, 0, 100), (0, 0, 130), (3, 0, 330)], 4: [(0, 4, 30), (2, 4, 110), (3, 4, 150), (1, 4, 170)], 2: [(3, 2, 40), (2, 2, 180), (1, 2, 220)], 1: [(2, 1, 70), (3, 1, 260), (1, 1, 390)], 5: [(2, 5, 150), (3, 5, 310), (1, 5, 350)]}\n"
     ]
    }
   ],
   "source": [
    "\n",
    "alpha = 0.0 # completely greedy\n",
    "\n",
    "for i in range(5):\n",
    "    x = randsol()\n",
    "    print(\"Random solution: fitness %f; %s\" % (fitness(x), str(x)))\n",
    "    \n",
    "print(\"===\")    \n",
    "    \n",
    "alpha = 0.5 # half way\n",
    "\n",
    "for i in range(5):\n",
    "    x = randsol()\n",
    "    print(\"Random solution: fitness %f; %s\" % (fitness(x), str(x)))\n",
    "    \n",
    "print(\"===\")    \n",
    "    \n",
    "alpha = 1.0 # completely random\n",
    "\n",
    "for i in range(5):\n",
    "    x = randsol()\n",
    "    print(\"Random solution: fitness %f; %s\" % (fitness(x), str(x)))\n",
    "\n",
    "\n",
    "\n"
   ]
  },
  {
   "cell_type": "markdown",
   "metadata": {},
   "source": [
    "### Optimization"
   ]
  },
  {
   "cell_type": "code",
   "execution_count": 17,
   "metadata": {},
   "outputs": [
    {
     "name": "stdout",
     "output_type": "stream",
     "text": [
      "-290 {0: [(2, 0, 20), (0, 0, 60), (1, 0, 110), (3, 0, 230)], 4: [(0, 4, 30), (3, 4, 80), (2, 4, 120), (1, 4, 140)], 2: [(3, 2, 40), (1, 2, 180), (2, 2, 210)], 1: [(2, 1, 70), (3, 1, 140), (1, 1, 290)], 3: [(1, 3, 50), (3, 3, 120), (2, 3, 230)], 5: [(2, 5, 160), (3, 5, 210), (1, 5, 250)]}\n",
      "-290 {0: [(2, 0, 20), (0, 0, 60), (1, 0, 110), (3, 0, 230)], 4: [(0, 4, 30), (3, 4, 80), (2, 4, 120), (1, 4, 140)], 2: [(3, 2, 40), (1, 2, 180), (2, 2, 210)], 3: [(1, 3, 50), (3, 3, 120), (2, 3, 230)], 1: [(2, 1, 70), (3, 1, 140), (1, 1, 290)], 5: [(2, 5, 160), (3, 5, 210), (1, 5, 250)]}\n",
      "-290 {0: [(2, 0, 20), (1, 0, 100), (0, 0, 130), (3, 0, 230)], 3: [(1, 3, 50), (3, 3, 120), (2, 3, 230)], 4: [(0, 4, 30), (3, 4, 80), (2, 4, 120), (1, 4, 140)], 2: [(3, 2, 40), (1, 2, 180), (2, 2, 210)], 1: [(2, 1, 70), (3, 1, 140), (1, 1, 290)], 5: [(2, 5, 160), (3, 5, 210), (1, 5, 250)]}\n"
     ]
    }
   ],
   "source": [
    "\n",
    "alpha = 0.0 # completely greedy\n",
    "\n",
    "ind, fit = solve(randsol, fitness, solver=\"RS\")\n",
    "print(fit, ind)\n",
    "\n",
    "alpha = 0.5 # half way\n",
    "\n",
    "ind, fit = solve(randsol, fitness, solver=\"RS\")\n",
    "print(fit, ind)\n",
    "\n",
    "alpha = 1.0 # completely random\n",
    "\n",
    "ind, fit = solve(randsol, fitness, solver=\"RS\")\n",
    "print(fit, ind)"
   ]
  },
  {
   "cell_type": "markdown",
   "metadata": {},
   "source": [
    "### Hyperparameters"
   ]
  },
  {
   "cell_type": "code",
   "execution_count": 18,
   "metadata": {},
   "outputs": [
    {
     "name": "stdout",
     "output_type": "stream",
     "text": [
      "-290 {0: [(2, 0, 20), (0, 0, 60), (1, 0, 110), (3, 0, 230)], 4: [(0, 4, 30), (3, 4, 80), (2, 4, 120), (1, 4, 140)], 2: [(3, 2, 40), (1, 2, 180), (2, 2, 210)], 1: [(2, 1, 70), (3, 1, 140), (1, 1, 290)], 3: [(1, 3, 50), (3, 3, 120), (2, 3, 230)], 5: [(2, 5, 160), (3, 5, 210), (1, 5, 250)]}\n",
      "-290 {0: [(2, 0, 20), (0, 0, 60), (1, 0, 110), (3, 0, 230)], 4: [(0, 4, 30), (3, 4, 80), (2, 4, 120), (1, 4, 140)], 2: [(3, 2, 40), (1, 2, 180), (2, 2, 210)], 1: [(2, 1, 70), (3, 1, 140), (1, 1, 290)], 3: [(1, 3, 50), (3, 3, 120), (2, 3, 230)], 5: [(2, 5, 160), (3, 5, 210), (1, 5, 250)]}\n",
      "-290 {0: [(2, 0, 20), (0, 0, 60), (1, 0, 110), (3, 0, 230)], 4: [(0, 4, 30), (3, 4, 80), (2, 4, 120), (1, 4, 140)], 2: [(3, 2, 40), (1, 2, 180), (2, 2, 210)], 3: [(1, 3, 50), (3, 3, 120), (2, 3, 230)], 1: [(2, 1, 70), (3, 1, 140), (1, 1, 290)], 5: [(2, 5, 160), (3, 5, 210), (1, 5, 250)]}\n",
      "-290 {0: [(2, 0, 20), (0, 0, 60), (1, 0, 110), (3, 0, 230)], 4: [(0, 4, 30), (3, 4, 80), (2, 4, 120), (1, 4, 140)], 2: [(3, 2, 40), (1, 2, 180), (2, 2, 210)], 1: [(2, 1, 70), (3, 1, 140), (1, 1, 290)], 3: [(1, 3, 50), (3, 3, 120), (2, 3, 230)], 5: [(2, 5, 160), (3, 5, 210), (1, 5, 250)]}\n",
      "===\n",
      "-290 {0: [(2, 0, 20), (0, 0, 60), (1, 0, 110), (3, 0, 290)], 4: [(0, 4, 30), (3, 4, 80), (2, 4, 120), (1, 4, 140)], 3: [(1, 3, 50), (3, 3, 120), (2, 3, 230)], 1: [(2, 1, 70), (3, 1, 140), (1, 1, 260)], 2: [(3, 2, 40), (1, 2, 180), (2, 2, 210)], 5: [(2, 5, 160), (1, 5, 220), (3, 5, 270)]}\n",
      "-290 {0: [(2, 0, 20), (0, 0, 60), (1, 0, 110), (3, 0, 230)], 4: [(0, 4, 30), (3, 4, 80), (2, 4, 120), (1, 4, 140)], 3: [(1, 3, 50), (3, 3, 120), (2, 3, 230)], 2: [(3, 2, 40), (1, 2, 180), (2, 2, 210)], 1: [(2, 1, 70), (3, 1, 140), (1, 1, 290)], 5: [(2, 5, 160), (3, 5, 210), (1, 5, 250)]}\n",
      "-320 {4: [(0, 4, 30), (3, 4, 80), (2, 4, 170), (1, 4, 190)], 0: [(0, 0, 60), (2, 0, 80), (1, 0, 130), (3, 0, 220)], 2: [(3, 2, 40), (1, 2, 230), (2, 2, 270)], 3: [(1, 3, 50), (3, 3, 120), (2, 3, 290)], 1: [(2, 1, 130), (3, 1, 150), (1, 1, 320)], 5: [(3, 5, 200), (2, 5, 240), (1, 5, 280)]}\n",
      "-290 {4: [(0, 4, 30), (3, 4, 80), (2, 4, 120), (1, 4, 140)], 0: [(2, 0, 20), (0, 0, 60), (1, 0, 110), (3, 0, 230)], 2: [(3, 2, 40), (1, 2, 180), (2, 2, 210)], 1: [(2, 1, 70), (3, 1, 140), (1, 1, 290)], 3: [(1, 3, 50), (3, 3, 120), (2, 3, 230)], 5: [(2, 5, 160), (3, 5, 210), (1, 5, 250)]}\n",
      "===\n",
      "-340 {3: [(1, 3, 50), (3, 3, 210), (2, 3, 310)], 4: [(0, 4, 30), (1, 4, 130), (3, 4, 170), (2, 4, 220)], 2: [(3, 2, 40), (1, 2, 170), (2, 2, 290)], 0: [(0, 0, 60), (1, 0, 110), (2, 0, 130), (3, 0, 340)], 1: [(2, 1, 180), (1, 1, 250), (3, 1, 270)], 5: [(1, 5, 210), (2, 5, 260), (3, 5, 320)]}\n",
      "-300 {0: [(2, 0, 20), (0, 0, 60), (1, 0, 110), (3, 0, 300)], 4: [(0, 4, 30), (2, 4, 110), (1, 4, 130), (3, 4, 170)], 1: [(2, 1, 70), (3, 1, 230), (1, 1, 270)], 3: [(1, 3, 50), (3, 3, 210), (2, 3, 230)], 2: [(3, 2, 40), (1, 2, 170), (2, 2, 200)], 5: [(2, 5, 150), (1, 5, 210), (3, 5, 280)]}\n",
      "-340 {0: [(2, 0, 20), (0, 0, 60), (1, 0, 110), (3, 0, 280)], 1: [(2, 1, 70), (3, 1, 210), (1, 1, 340)], 2: [(3, 2, 40), (2, 2, 180), (1, 2, 220)], 4: [(0, 4, 30), (2, 4, 110), (3, 4, 150), (1, 4, 170)], 3: [(1, 3, 50), (3, 3, 190), (2, 3, 210)], 5: [(2, 5, 150), (3, 5, 260), (1, 5, 300)]}\n",
      "-290 {4: [(0, 4, 30), (3, 4, 80), (2, 4, 120), (1, 4, 140)], 0: [(2, 0, 20), (0, 0, 60), (1, 0, 110), (3, 0, 290)], 1: [(2, 1, 70), (3, 1, 140), (1, 1, 260)], 2: [(3, 2, 40), (1, 2, 180), (2, 2, 210)], 3: [(1, 3, 50), (3, 3, 120), (2, 3, 230)], 5: [(2, 5, 160), (1, 5, 220), (3, 5, 270)]}\n"
     ]
    }
   ],
   "source": [
    "\n",
    "alpha = 0.0 # completely greedy\n",
    "\n",
    "ind, fit = solve(randsol, fitness, solver=\"HC\", budget=15)\n",
    "print(fit, ind)\n",
    "ind, fit = solve(randsol, fitness, solver=\"HC\", budget=150)\n",
    "print(fit, ind)\n",
    "ind, fit = solve(randsol, fitness, solver=\"HC\", effort=1)\n",
    "print(fit, ind)\n",
    "ind, fit = solve(randsol, fitness, solver=\"HC\", effort=2)\n",
    "print(fit, ind)\n",
    "\n",
    "print(\"===\") \n",
    "\n",
    "alpha = 0.5 # half way\n",
    "\n",
    "ind, fit = solve(randsol, fitness, solver=\"HC\", budget=15)\n",
    "print(fit, ind)\n",
    "ind, fit = solve(randsol, fitness, solver=\"HC\", budget=150)\n",
    "print(fit, ind)\n",
    "ind, fit = solve(randsol, fitness, solver=\"HC\", effort=1)\n",
    "print(fit, ind)\n",
    "ind, fit = solve(randsol, fitness, solver=\"HC\", effort=2)\n",
    "print(fit, ind)\n",
    "\n",
    "print(\"===\") \n",
    "\n",
    "alpha = 1.0 # completely random\n",
    "\n",
    "ind, fit = solve(randsol, fitness, solver=\"HC\", budget=15)\n",
    "print(fit, ind)\n",
    "ind, fit = solve(randsol, fitness, solver=\"HC\", budget=150)\n",
    "print(fit, ind)\n",
    "ind, fit = solve(randsol, fitness, solver=\"HC\", effort=1)\n",
    "print(fit, ind)\n",
    "ind, fit = solve(randsol, fitness, solver=\"HC\", effort=2)\n",
    "print(fit, ind)\n"
   ]
  },
  {
   "cell_type": "code",
   "execution_count": null,
   "metadata": {
    "collapsed": true
   },
   "outputs": [],
   "source": []
  }
 ],
 "metadata": {
  "kernelspec": {
   "display_name": "Python 3",
   "language": "python",
   "name": "python3"
  },
  "language_info": {
   "codemirror_mode": {
    "name": "ipython",
    "version": 3
   },
   "file_extension": ".py",
   "mimetype": "text/x-python",
   "name": "python",
   "nbconvert_exporter": "python",
   "pygments_lexer": "ipython3",
   "version": "3.6.6"
  }
 },
 "nbformat": 4,
 "nbformat_minor": 1
}
