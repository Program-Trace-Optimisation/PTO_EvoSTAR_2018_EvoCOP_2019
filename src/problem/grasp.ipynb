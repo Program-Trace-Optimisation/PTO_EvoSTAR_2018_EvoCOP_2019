{
 "cells": [
  {
   "cell_type": "markdown",
   "metadata": {
    "collapsed": true
   },
   "source": [
    "## Program Trace Optimisation: GRASP\n",
    "\n"
   ]
  },
  {
   "cell_type": "code",
   "execution_count": 1,
   "metadata": {},
   "outputs": [],
   "source": [
    "from PTO import random, solve"
   ]
  },
  {
   "cell_type": "markdown",
   "metadata": {
    "collapsed": true
   },
   "source": [
    "### Generic GRASP generator\n"
   ]
  },
  {
   "cell_type": "code",
   "execution_count": 2,
   "metadata": {},
   "outputs": [],
   "source": [
    "alpha = 0.5 # completely greedy: 0.0, completely random: 1.0 \n",
    "\n",
    "def randsol():\n",
    "  solution = empty_solution()\n",
    "  while(not complete(solution)):\n",
    "    #print(solution)\n",
    "    features = allowed_features(solution)\n",
    "    costs = {feat:cost_feature(solution, feat) for feat in features}\n",
    "    min_cost, max_cost = min(costs.values()), max(costs.values())\n",
    "    RCL = [feat for feat in features if costs[feat] <= min_cost + alpha * (max_cost - min_cost)]\n",
    "    #print(RCL)\n",
    "    selected_feature = random.choice(RCL) # only source of randomness\n",
    "    solution = add_feature(solution, selected_feature)\n",
    "  return solution "
   ]
  },
  {
   "cell_type": "markdown",
   "metadata": {},
   "source": [
    "### Specific GRASP functions for the SORTING problem"
   ]
  },
  {
   "cell_type": "code",
   "execution_count": 5,
   "metadata": {},
   "outputs": [],
   "source": [
    "n=10\n",
    "\n",
    "def empty_solution():\n",
    "  return []\n",
    "\n",
    "def complete(solution):\n",
    "  return len(solution)==n\n",
    "\n",
    "def allowed_features(solution):\n",
    "  all_items = range(1,n+1)\n",
    "  remaining_items = [item for item in all_items if item not in solution]\n",
    "  return remaining_items\n",
    "\n",
    "def cost_feature(solution, feat):\n",
    "  last_item = solution[-1] if len(solution)>0 else 0\n",
    "  dist = abs(feat - last_item)\n",
    "  return dist\n",
    "\n",
    "def add_feature(solution, feat):\n",
    "  sol = solution[:] + [feat]\n",
    "  return sol"
   ]
  },
  {
   "cell_type": "markdown",
   "metadata": {},
   "source": [
    "### Fitness function "
   ]
  },
  {
   "cell_type": "code",
   "execution_count": 6,
   "metadata": {},
   "outputs": [],
   "source": [
    "def fitness(solution): # cost to minimise, best solution has cost 0\n",
    "  return -sum([abs(solution[pos]-(pos+1)) for pos in range(n)])"
   ]
  },
  {
   "cell_type": "markdown",
   "metadata": {},
   "source": [
    "### Testing our generator and fitness"
   ]
  },
  {
   "cell_type": "code",
   "execution_count": 7,
   "metadata": {},
   "outputs": [
    {
     "name": "stdout",
     "output_type": "stream",
     "text": [
      "Random solution: fitness 0; [1, 2, 3, 4, 5, 6, 7, 8, 9, 10]\n",
      "Random solution: fitness 0; [1, 2, 3, 4, 5, 6, 7, 8, 9, 10]\n",
      "Random solution: fitness 0; [1, 2, 3, 4, 5, 6, 7, 8, 9, 10]\n",
      "Random solution: fitness 0; [1, 2, 3, 4, 5, 6, 7, 8, 9, 10]\n",
      "Random solution: fitness 0; [1, 2, 3, 4, 5, 6, 7, 8, 9, 10]\n",
      "===\n",
      "Random solution: fitness -22; [4, 2, 5, 8, 7, 6, 3, 1, 9, 10]\n",
      "Random solution: fitness -8; [2, 1, 3, 7, 5, 6, 4, 8, 9, 10]\n",
      "Random solution: fitness -24; [3, 7, 5, 6, 4, 2, 1, 9, 8, 10]\n",
      "Random solution: fitness -32; [3, 5, 4, 8, 7, 6, 10, 9, 2, 1]\n",
      "Random solution: fitness -30; [2, 4, 6, 9, 5, 7, 10, 8, 3, 1]\n",
      "===\n",
      "Random solution: fitness -36; [9, 3, 5, 10, 1, 7, 2, 4, 6, 8]\n",
      "Random solution: fitness -30; [5, 1, 2, 10, 7, 8, 6, 9, 3, 4]\n",
      "Random solution: fitness -38; [9, 5, 4, 1, 10, 8, 7, 6, 3, 2]\n",
      "Random solution: fitness -46; [10, 7, 6, 5, 9, 4, 8, 2, 3, 1]\n",
      "Random solution: fitness -24; [9, 6, 1, 2, 3, 4, 5, 7, 8, 10]\n"
     ]
    }
   ],
   "source": [
    "alpha = 0.0 # completely greedy\n",
    "\n",
    "for i in range(5):\n",
    "    x = randsol()\n",
    "    print(\"Random solution: fitness %d; %s\" % (fitness(x), str(x)))\n",
    "    \n",
    "print(\"===\")    \n",
    "    \n",
    "alpha = 0.5 # half way\n",
    "\n",
    "for i in range(5):\n",
    "    x = randsol()\n",
    "    print(\"Random solution: fitness %d; %s\" % (fitness(x), str(x)))\n",
    "    \n",
    "print(\"===\")    \n",
    "    \n",
    "alpha = 1.0 # completely random\n",
    "\n",
    "for i in range(5):\n",
    "    x = randsol()\n",
    "    print(\"Random solution: fitness %d; %s\" % (fitness(x), str(x)))"
   ]
  },
  {
   "cell_type": "markdown",
   "metadata": {
    "collapsed": true
   },
   "source": [
    "### Optimization\n",
    "\n"
   ]
  },
  {
   "cell_type": "code",
   "execution_count": 10,
   "metadata": {},
   "outputs": [
    {
     "name": "stdout",
     "output_type": "stream",
     "text": [
      "0 [1, 2, 3, 4, 5, 6, 7, 8, 9, 10]\n",
      "-18 [2, 1, 4, 6, 5, 7, 9, 10, 8, 3]\n",
      "-24 [1, 7, 4, 10, 5, 2, 3, 6, 8, 9]\n"
     ]
    }
   ],
   "source": [
    "alpha = 0.0 # completely greedy\n",
    "\n",
    "ind, fit = solve(randsol, fitness, solver=\"MGA\")\n",
    "print(fit, ind)\n",
    "\n",
    "alpha = 0.5 # half way\n",
    "\n",
    "ind, fit = solve(randsol, fitness, solver=\"MGA\")\n",
    "print(fit, ind)\n",
    "\n",
    "alpha = 1.0 # completely random\n",
    "\n",
    "ind, fit = solve(randsol, fitness, solver=\"MGA\")\n",
    "print(fit, ind)"
   ]
  },
  {
   "cell_type": "markdown",
   "metadata": {},
   "source": [
    "### Hyperparameters\n",
    "\n"
   ]
  },
  {
   "cell_type": "code",
   "execution_count": 8,
   "metadata": {},
   "outputs": [
    {
     "name": "stdout",
     "output_type": "stream",
     "text": [
      "0 [1, 2, 3, 4, 5, 6, 7, 8, 9, 10]\n",
      "0 [1, 2, 3, 4, 5, 6, 7, 8, 9, 10]\n",
      "0 [1, 2, 3, 4, 5, 6, 7, 8, 9, 10]\n",
      "0 [1, 2, 3, 4, 5, 6, 7, 8, 9, 10]\n",
      "===\n",
      "-22 [3, 4, 2, 1, 6, 8, 9, 10, 7, 5]\n",
      "-12 [1, 2, 4, 5, 3, 7, 8, 9, 10, 6]\n",
      "-14 [1, 4, 2, 3, 6, 7, 9, 8, 10, 5]\n",
      "-12 [3, 1, 2, 5, 4, 7, 6, 9, 10, 8]\n",
      "===\n",
      "-20 [1, 3, 6, 2, 8, 7, 5, 10, 9, 4]\n",
      "-20 [2, 1, 3, 8, 5, 9, 6, 10, 4, 7]\n",
      "-32 [7, 10, 5, 2, 3, 1, 4, 6, 8, 9]\n",
      "-12 [4, 1, 2, 7, 5, 3, 6, 8, 9, 10]\n"
     ]
    }
   ],
   "source": [
    "alpha = 0.0 # completely greedy\n",
    "\n",
    "ind, fit = solve(randsol, fitness, solver=\"MGA\", budget=15)\n",
    "print(fit, ind)\n",
    "ind, fit = solve(randsol, fitness, solver=\"MGA\", budget=150)\n",
    "print(fit, ind)\n",
    "ind, fit = solve(randsol, fitness, solver=\"MGA\", effort=1)\n",
    "print(fit, ind)\n",
    "ind, fit = solve(randsol, fitness, solver=\"MGA\", effort=2)\n",
    "print(fit, ind)\n",
    "\n",
    "print(\"===\") \n",
    "\n",
    "alpha = 0.5 # half way\n",
    "\n",
    "ind, fit = solve(randsol, fitness, solver=\"MGA\", budget=15)\n",
    "print(fit, ind)\n",
    "ind, fit = solve(randsol, fitness, solver=\"MGA\", budget=150)\n",
    "print(fit, ind)\n",
    "ind, fit = solve(randsol, fitness, solver=\"MGA\", effort=1)\n",
    "print(fit, ind)\n",
    "ind, fit = solve(randsol, fitness, solver=\"MGA\", effort=2)\n",
    "print(fit, ind)\n",
    "\n",
    "print(\"===\") \n",
    "\n",
    "alpha = 1.0 # completely random\n",
    "\n",
    "ind, fit = solve(randsol, fitness, solver=\"MGA\", budget=15)\n",
    "print(fit, ind)\n",
    "ind, fit = solve(randsol, fitness, solver=\"MGA\", budget=150)\n",
    "print(fit, ind)\n",
    "ind, fit = solve(randsol, fitness, solver=\"MGA\", effort=1)\n",
    "print(fit, ind)\n",
    "ind, fit = solve(randsol, fitness, solver=\"MGA\", effort=2)\n",
    "print(fit, ind)\n"
   ]
  },
  {
   "cell_type": "markdown",
   "metadata": {},
   "source": [
    "### Specific GRASP functions for the TSP problem"
   ]
  },
  {
   "cell_type": "code",
   "execution_count": 9,
   "metadata": {},
   "outputs": [],
   "source": [
    "#alpha = 0.7\n",
    "\n",
    "n = 10\n",
    "#dist = [[0, 20, 42, 35], [20, 0, 30, 34], [42, 30, 0, 12], [35, 34, 12, 0]]\n",
    "dist = [[random.random() for i in range(n)] for j in range(n)]\n",
    "#print(dist)\n",
    "\n",
    "def empty_solution():\n",
    "  return [0] # start tour always from first city \n",
    "\n",
    "def complete(solution):\n",
    "  return len(solution)==n\n",
    "\n",
    "def allowed_features(solution):\n",
    "  all_items = range(n)\n",
    "  remaining_items = [item for item in all_items if item not in solution]\n",
    "  return remaining_items\n",
    "\n",
    "def cost_feature(solution, feat):\n",
    "  last_city = solution[-1]\n",
    "  d = dist[last_city][feat]\n",
    "  return d\n",
    "\n",
    "def add_feature(solution, feat):\n",
    "  sol = solution[:] + [feat]\n",
    "  return sol\n",
    "\n",
    " "
   ]
  },
  {
   "cell_type": "markdown",
   "metadata": {},
   "source": [
    "### Fitness function "
   ]
  },
  {
   "cell_type": "code",
   "execution_count": 10,
   "metadata": {},
   "outputs": [],
   "source": [
    "def fitness(solution):\n",
    "  return -(sum([dist[solution[pos]][solution[pos+1]] for pos in range(n-1)]) + dist[solution[0]][solution[-1]])\n"
   ]
  },
  {
   "cell_type": "markdown",
   "metadata": {},
   "source": [
    "### Testing our generator and fitness"
   ]
  },
  {
   "cell_type": "code",
   "execution_count": 11,
   "metadata": {},
   "outputs": [
    {
     "name": "stdout",
     "output_type": "stream",
     "text": [
      "Random solution: fitness -1.941263; [0, 2, 8, 5, 3, 7, 9, 6, 1, 4]\n",
      "Random solution: fitness -1.941263; [0, 2, 8, 5, 3, 7, 9, 6, 1, 4]\n",
      "Random solution: fitness -1.941263; [0, 2, 8, 5, 3, 7, 9, 6, 1, 4]\n",
      "Random solution: fitness -1.941263; [0, 2, 8, 5, 3, 7, 9, 6, 1, 4]\n",
      "Random solution: fitness -1.941263; [0, 2, 8, 5, 3, 7, 9, 6, 1, 4]\n",
      "===\n",
      "Random solution: fitness -3.466989; [0, 8, 7, 9, 6, 1, 4, 3, 2, 5]\n",
      "Random solution: fitness -3.396992; [0, 9, 7, 2, 4, 3, 5, 6, 1, 8]\n",
      "Random solution: fitness -3.434760; [0, 1, 7, 4, 6, 2, 8, 9, 3, 5]\n",
      "Random solution: fitness -2.162174; [0, 9, 7, 2, 8, 5, 3, 1, 4, 6]\n",
      "Random solution: fitness -3.065591; [0, 2, 3, 7, 1, 6, 9, 5, 4, 8]\n",
      "===\n",
      "Random solution: fitness -4.263218; [0, 3, 5, 2, 7, 9, 1, 6, 4, 8]\n",
      "Random solution: fitness -5.055289; [0, 9, 2, 8, 3, 1, 7, 4, 6, 5]\n",
      "Random solution: fitness -4.053204; [0, 4, 7, 3, 1, 6, 5, 2, 8, 9]\n",
      "Random solution: fitness -4.984785; [0, 7, 9, 8, 5, 2, 1, 3, 4, 6]\n",
      "Random solution: fitness -4.140372; [0, 9, 3, 8, 4, 7, 5, 2, 1, 6]\n"
     ]
    }
   ],
   "source": [
    "\n",
    "alpha = 0.0 # completely greedy\n",
    "\n",
    "for i in range(5):\n",
    "    x = randsol()\n",
    "    print(\"Random solution: fitness %f; %s\" % (fitness(x), str(x)))\n",
    "    \n",
    "print(\"===\")    \n",
    "    \n",
    "alpha = 0.5 # half way\n",
    "\n",
    "for i in range(5):\n",
    "    x = randsol()\n",
    "    print(\"Random solution: fitness %f; %s\" % (fitness(x), str(x)))\n",
    "    \n",
    "print(\"===\")    \n",
    "    \n",
    "alpha = 1.0 # completely random\n",
    "\n",
    "for i in range(5):\n",
    "    x = randsol()\n",
    "    print(\"Random solution: fitness %f; %s\" % (fitness(x), str(x)))\n",
    "\n",
    "\n",
    "\n"
   ]
  },
  {
   "cell_type": "markdown",
   "metadata": {},
   "source": [
    "### Optimization"
   ]
  },
  {
   "cell_type": "code",
   "execution_count": 12,
   "metadata": {},
   "outputs": [
    {
     "name": "stdout",
     "output_type": "stream",
     "text": [
      "-1.941263450605617 [0, 2, 8, 5, 3, 7, 9, 6, 1, 4]\n",
      "-2.0464917253419337 [0, 2, 8, 9, 7, 5, 3, 6, 1, 4]\n",
      "-3.581641540550827 [0, 7, 9, 5, 3, 1, 8, 4, 6, 2]\n"
     ]
    }
   ],
   "source": [
    "\n",
    "alpha = 0.0 # completely greedy\n",
    "\n",
    "ind, fit = solve(randsol, fitness, solver=\"MGA\")\n",
    "print(fit, ind)\n",
    "\n",
    "alpha = 0.5 # half way\n",
    "\n",
    "ind, fit = solve(randsol, fitness, solver=\"MGA\")\n",
    "print(fit, ind)\n",
    "\n",
    "alpha = 1.0 # completely random\n",
    "\n",
    "ind, fit = solve(randsol, fitness, solver=\"MGA\")\n",
    "print(fit, ind)"
   ]
  },
  {
   "cell_type": "markdown",
   "metadata": {},
   "source": [
    "### Hyperparameters"
   ]
  },
  {
   "cell_type": "code",
   "execution_count": 13,
   "metadata": {},
   "outputs": [
    {
     "name": "stdout",
     "output_type": "stream",
     "text": [
      "-1.941263450605617 [0, 2, 8, 5, 3, 7, 9, 6, 1, 4]\n",
      "-1.941263450605617 [0, 2, 8, 5, 3, 7, 9, 6, 1, 4]\n",
      "-1.941263450605617 [0, 2, 8, 5, 3, 7, 9, 6, 1, 4]\n",
      "-1.941263450605617 [0, 2, 8, 5, 3, 7, 9, 6, 1, 4]\n",
      "===\n",
      "-2.335918240168558 [0, 2, 4, 6, 1, 5, 3, 7, 9, 8]\n",
      "-2.100995504370577 [0, 9, 3, 6, 1, 4, 7, 5, 2, 8]\n",
      "-1.9951512240596474 [0, 9, 3, 6, 7, 2, 8, 5, 4, 1]\n",
      "-1.8849400698218057 [0, 2, 4, 8, 5, 3, 7, 1, 6, 9]\n",
      "===\n",
      "-3.0220857731774684 [0, 8, 7, 9, 5, 4, 3, 2, 6, 1]\n",
      "-3.437763259110958 [0, 1, 4, 6, 7, 9, 2, 3, 8, 5]\n",
      "-3.790678267059304 [0, 6, 7, 8, 9, 4, 1, 5, 3, 2]\n",
      "-3.8481186769457274 [0, 6, 1, 4, 3, 2, 9, 5, 7, 8]\n"
     ]
    }
   ],
   "source": [
    "\n",
    "alpha = 0.0 # completely greedy\n",
    "\n",
    "ind, fit = solve(randsol, fitness, solver=\"MGA\", budget=15)\n",
    "print(fit, ind)\n",
    "ind, fit = solve(randsol, fitness, solver=\"MGA\", budget=150)\n",
    "print(fit, ind)\n",
    "ind, fit = solve(randsol, fitness, solver=\"MGA\", effort=1)\n",
    "print(fit, ind)\n",
    "ind, fit = solve(randsol, fitness, solver=\"MGA\", effort=2)\n",
    "print(fit, ind)\n",
    "\n",
    "print(\"===\") \n",
    "\n",
    "alpha = 0.5 # half way\n",
    "\n",
    "ind, fit = solve(randsol, fitness, solver=\"MGA\", budget=15)\n",
    "print(fit, ind)\n",
    "ind, fit = solve(randsol, fitness, solver=\"MGA\", budget=150)\n",
    "print(fit, ind)\n",
    "ind, fit = solve(randsol, fitness, solver=\"MGA\", effort=1)\n",
    "print(fit, ind)\n",
    "ind, fit = solve(randsol, fitness, solver=\"MGA\", effort=2)\n",
    "print(fit, ind)\n",
    "\n",
    "print(\"===\") \n",
    "\n",
    "alpha = 1.0 # completely random\n",
    "\n",
    "ind, fit = solve(randsol, fitness, solver=\"MGA\", budget=15)\n",
    "print(fit, ind)\n",
    "ind, fit = solve(randsol, fitness, solver=\"MGA\", budget=150)\n",
    "print(fit, ind)\n",
    "ind, fit = solve(randsol, fitness, solver=\"MGA\", effort=1)\n",
    "print(fit, ind)\n",
    "ind, fit = solve(randsol, fitness, solver=\"MGA\", effort=2)\n",
    "print(fit, ind)\n"
   ]
  },
  {
   "cell_type": "markdown",
   "metadata": {},
   "source": [
    "### Specific GRASP functions for the KNAPSACK problem"
   ]
  },
  {
   "cell_type": "code",
   "execution_count": 16,
   "metadata": {},
   "outputs": [
    {
     "name": "stdout",
     "output_type": "stream",
     "text": [
      "[32, 20, 48, 93, 3, 98, 73, 5, 3, 42, 77, 65, 69, 94, 92, 43, 4, 93, 8, 20]\n",
      "[1, 2, 3, 4, 5, 6, 7, 8, 9, 10, 11, 12, 13, 14, 15, 16, 17, 18, 19, 20]\n"
     ]
    }
   ],
   "source": [
    "#n = 3\n",
    "#val = [60, 100, 120] # values \n",
    "#wt = [10, 20, 30] # weights \n",
    "#W = 50 # capacity\n",
    "\n",
    "n = 20\n",
    "val = [random.randint(1,100) for i in range(n)]\n",
    "wt = list(range(1,n+1))\n",
    "W = 2*n\n",
    "print(val)\n",
    "print(wt)\n",
    "\n",
    "\n",
    "def empty_solution():\n",
    "  return []  \n",
    "\n",
    "def complete(solution):\n",
    "  weight = sum([wt[item] for item in solution])\n",
    "  min_weight_left = min([wt[item] for item in range(n) if item not in solution])\n",
    "  return len(solution)==n or (weight + min_weight_left) > W\n",
    "\n",
    "def allowed_features(solution):\n",
    "  all_items = range(n)\n",
    "  remaining_items = [item for item in all_items if item not in solution]\n",
    "  weight = sum([wt[item] for item in solution])\n",
    "  fitting_items = [item for item in remaining_items if (weight + wt[item]) <= W]\n",
    "  return fitting_items\n",
    "\n",
    "def cost_feature(solution, feat):\n",
    "  return -val[feat] # heuristic 1 (-val as this is a cost)\n",
    "  #return -val[feat]/wt[feat] # heuristic 2\n",
    "\n",
    "def add_feature(solution, feat):\n",
    "  sol = solution[:] + [feat]\n",
    "  return sol\n",
    "\n",
    "\n"
   ]
  },
  {
   "cell_type": "markdown",
   "metadata": {},
   "source": [
    "### Fitness function "
   ]
  },
  {
   "cell_type": "code",
   "execution_count": 17,
   "metadata": {},
   "outputs": [],
   "source": [
    "def fitness(solution):\n",
    "  return sum([val[item] for item in solution])\n"
   ]
  },
  {
   "cell_type": "markdown",
   "metadata": {},
   "source": [
    "### Testing our generator and fitness"
   ]
  },
  {
   "cell_type": "code",
   "execution_count": 18,
   "metadata": {},
   "outputs": [
    {
     "name": "stdout",
     "output_type": "stream",
     "text": [
      "Random solution: fitness 409.000000; [5, 13, 3, 14, 0]\n",
      "Random solution: fitness 409.000000; [5, 13, 3, 14, 0]\n",
      "Random solution: fitness 317.000000; [5, 13, 17, 0]\n",
      "Random solution: fitness 317.000000; [5, 13, 17, 0]\n",
      "Random solution: fitness 409.000000; [5, 13, 3, 14, 0]\n",
      "===\n",
      "Random solution: fitness 383.000000; [14, 3, 6, 10, 2]\n",
      "Random solution: fitness 266.000000; [10, 14, 11, 0]\n",
      "Random solution: fitness 442.000000; [13, 5, 10, 2, 3, 0]\n",
      "Random solution: fitness 365.000000; [10, 12, 5, 6, 2]\n",
      "Random solution: fitness 409.000000; [3, 5, 14, 13, 0]\n",
      "===\n",
      "Random solution: fitness 242.000000; [4, 15, 3, 8, 2, 1, 0]\n",
      "Random solution: fitness 364.000000; [6, 5, 17, 0, 1, 2]\n",
      "Random solution: fitness 360.000000; [17, 13, 2, 3, 0]\n",
      "Random solution: fitness 247.000000; [18, 13, 1, 3, 0]\n",
      "Random solution: fitness 177.000000; [15, 5, 16, 0]\n"
     ]
    }
   ],
   "source": [
    "\n",
    "alpha = 0.0 # completely greedy\n",
    "\n",
    "for i in range(5):\n",
    "    x = randsol()\n",
    "    print(\"Random solution: fitness %f; %s\" % (fitness(x), str(x)))\n",
    "    \n",
    "print(\"===\")    \n",
    "    \n",
    "alpha = 0.5 # half way\n",
    "\n",
    "for i in range(5):\n",
    "    x = randsol()\n",
    "    print(\"Random solution: fitness %f; %s\" % (fitness(x), str(x)))\n",
    "    \n",
    "print(\"===\")    \n",
    "    \n",
    "alpha = 1.0 # completely random\n",
    "\n",
    "for i in range(5):\n",
    "    x = randsol()\n",
    "    print(\"Random solution: fitness %f; %s\" % (fitness(x), str(x)))\n",
    "\n",
    "\n",
    "\n"
   ]
  },
  {
   "cell_type": "markdown",
   "metadata": {},
   "source": [
    "### Optimization"
   ]
  },
  {
   "cell_type": "code",
   "execution_count": 19,
   "metadata": {},
   "outputs": [
    {
     "name": "stdout",
     "output_type": "stream",
     "text": [
      "409 [5, 13, 3, 14, 0]\n",
      "458 [3, 6, 13, 5, 0, 2, 1]\n",
      "388 [1, 7, 14, 2, 3, 5, 0]\n"
     ]
    }
   ],
   "source": [
    "\n",
    "alpha = 0.0 # completely greedy\n",
    "\n",
    "ind, fit = solve(randsol, fitness, solver=\"EA\")\n",
    "print(fit, ind)\n",
    "\n",
    "alpha = 0.5 # half way\n",
    "\n",
    "ind, fit = solve(randsol, fitness, solver=\"EA\")\n",
    "print(fit, ind)\n",
    "\n",
    "alpha = 1.0 # completely random\n",
    "\n",
    "ind, fit = solve(randsol, fitness, solver=\"EA\")\n",
    "print(fit, ind)"
   ]
  },
  {
   "cell_type": "markdown",
   "metadata": {},
   "source": [
    "### Hyperparameters"
   ]
  },
  {
   "cell_type": "code",
   "execution_count": 20,
   "metadata": {},
   "outputs": [
    {
     "name": "stdout",
     "output_type": "stream",
     "text": [
      "409 [5, 13, 3, 14, 0]\n",
      "409 [5, 13, 3, 14, 0]\n",
      "409 [5, 13, 3, 14, 0]\n",
      "409 [5, 13, 3, 14, 0]\n",
      "===\n",
      "444 [10, 3, 5, 6, 2, 0, 1, 4]\n",
      "458 [5, 3, 13, 6, 0, 2, 1]\n",
      "458 [5, 6, 13, 3, 0, 2, 1]\n",
      "406 [6, 11, 3, 10, 5]\n",
      "===\n",
      "313 [15, 10, 3, 2, 1, 0]\n",
      "386 [0, 2, 8, 1, 14, 3, 5]\n",
      "180 [19, 2, 4, 10, 0]\n",
      "313 [2, 3, 15, 10, 1, 0]\n"
     ]
    }
   ],
   "source": [
    "\n",
    "alpha = 0.0 # completely greedy\n",
    "\n",
    "ind, fit = solve(randsol, fitness, solver=\"MGA\", budget=15)\n",
    "print(fit, ind)\n",
    "ind, fit = solve(randsol, fitness, solver=\"MGA\", budget=150)\n",
    "print(fit, ind)\n",
    "ind, fit = solve(randsol, fitness, solver=\"MGA\", effort=1)\n",
    "print(fit, ind)\n",
    "ind, fit = solve(randsol, fitness, solver=\"MGA\", effort=2)\n",
    "print(fit, ind)\n",
    "\n",
    "print(\"===\") \n",
    "\n",
    "alpha = 0.5 # half way\n",
    "\n",
    "ind, fit = solve(randsol, fitness, solver=\"MGA\", budget=15)\n",
    "print(fit, ind)\n",
    "ind, fit = solve(randsol, fitness, solver=\"MGA\", budget=150)\n",
    "print(fit, ind)\n",
    "ind, fit = solve(randsol, fitness, solver=\"MGA\", effort=1)\n",
    "print(fit, ind)\n",
    "ind, fit = solve(randsol, fitness, solver=\"MGA\", effort=2)\n",
    "print(fit, ind)\n",
    "\n",
    "print(\"===\") \n",
    "\n",
    "alpha = 1.0 # completely random\n",
    "\n",
    "ind, fit = solve(randsol, fitness, solver=\"MGA\", budget=15)\n",
    "print(fit, ind)\n",
    "ind, fit = solve(randsol, fitness, solver=\"MGA\", budget=150)\n",
    "print(fit, ind)\n",
    "ind, fit = solve(randsol, fitness, solver=\"MGA\", effort=1)\n",
    "print(fit, ind)\n",
    "ind, fit = solve(randsol, fitness, solver=\"MGA\", effort=2)\n",
    "print(fit, ind)\n"
   ]
  },
  {
   "cell_type": "markdown",
   "metadata": {},
   "source": [
    "### Specific GRASP functions for the JSSP problem"
   ]
  },
  {
   "cell_type": "code",
   "execution_count": 22,
   "metadata": {},
   "outputs": [
    {
     "name": "stdout",
     "output_type": "stream",
     "text": [
      "[[(0, 30)], [(1, 50), (0, 50), (5, 40), (3, 50)], [(4, 30)], [(3, 40)]]\n"
     ]
    }
   ],
   "source": [
    "# 3 jobs, 3 machines\n",
    "\n",
    "problem = [[(0,3), (1,2), (2,2)],\n",
    "           [(0,2), (2,1), (1,4)],\n",
    "           [(1,4), (2,3)]]\n",
    "\n",
    "# Each sub-list is a job (a sequence of operations).\n",
    "# Each pair gives the machine the operation has to be processed on, and the time it takes.\n",
    "\n",
    "def randprob(n, m): # n jobs on m machines\n",
    "    prob = []\n",
    "    for i in range(n):\n",
    "        nmachines = random.randrange(1, m+1)\n",
    "        machines = random.sample(range(m), nmachines)\n",
    "        job = [(machine, (1 + random.randrange(1,5))*10)\n",
    "               for machine in machines]\n",
    "        prob.append(job)\n",
    "    return prob\n",
    "\n",
    "problem = randprob(4, 6)\n",
    "print(problem)\n",
    "\n",
    "def empty_solution():\n",
    "    # Global variables keep track of the schedule under construction\n",
    "    global jobs, machines, term_mac, term_job\n",
    "    jobs = [list(job) for job in problem]\n",
    "    machines = {} # dictionary of machines\n",
    "    term_mac = {} # termination times on machines\n",
    "    term_job = {} # termination times of jobs\n",
    "    \n",
    "    return {}\n",
    "\n",
    "def complete(solution):\n",
    "    #print(solution)\n",
    "    return all(job == [] for job in jobs)\n",
    "\n",
    "def allowed_features(solution):\n",
    "    job_inds = [ i for i in range(len(jobs)) if jobs[i] != [] ]\n",
    "    #print(job_inds)\n",
    "    return job_inds\n",
    "\n",
    "def cost_feature(solution, feat):\n",
    "    makespan = max([solution[mac][-1][2] for mac in solution]) if solution != {} else 0\n",
    "\n",
    "    op = jobs[feat][0]\n",
    "    if ((feat not in term_job) or (op[0] not in term_mac)):\n",
    "        term_op = op[1]\n",
    "    else:\n",
    "        term_op = max(term_job[feat],term_mac[op[0]])+op[1]\n",
    "\n",
    "    #print(term_op - makespan)\n",
    "    return term_op - makespan\n",
    "\n",
    "def add_feature(solution, feat):\n",
    "    op, jobs[feat] = jobs[feat][0], jobs[feat][1:]\n",
    "\n",
    "    if (feat not in term_job):\n",
    "        term_job[feat] = 0 # initialise dictionary\n",
    "    if (op[0] not in term_mac):\n",
    "        term_mac[op[0]] = 0 # initialise dictionary\n",
    "\n",
    "    term_op = max(term_job[feat],term_mac[op[0]])+op[1]\n",
    "    term_job[feat]=term_op\n",
    "    term_mac[op[0]]=term_op\n",
    "\n",
    "    #machines = solution.copy()\n",
    "    if op[0] not in machines: # if machine of current operation not in dictionary\n",
    "        machines[op[0]] = [(feat, op[0], term_op)] # for each op: (job, mac, term)\n",
    "    else:\n",
    "        machines[op[0]].append((feat, op[0], term_op))\n",
    "\n",
    "    return machines\n",
    "\n"
   ]
  },
  {
   "cell_type": "markdown",
   "metadata": {},
   "source": [
    "### Fitness function"
   ]
  },
  {
   "cell_type": "code",
   "execution_count": 23,
   "metadata": {},
   "outputs": [],
   "source": [
    "def fitness(solution): # makespan: maximum of termination times on machines\n",
    "    # PTO always maximises, but we want small makespan, so use -max\n",
    "    return -max([solution[mac][-1][2] for mac in solution])\n"
   ]
  },
  {
   "cell_type": "markdown",
   "metadata": {},
   "source": [
    "### Testing our generator and fitness"
   ]
  },
  {
   "cell_type": "code",
   "execution_count": 24,
   "metadata": {},
   "outputs": [
    {
     "name": "stdout",
     "output_type": "stream",
     "text": [
      "Random solution: fitness -190.000000; {4: [(2, 4, 30)], 0: [(0, 0, 30), (1, 0, 100)], 3: [(3, 3, 40), (1, 3, 190)], 1: [(1, 1, 50)], 5: [(1, 5, 140)]}\n",
      "Random solution: fitness -190.000000; {0: [(0, 0, 30), (1, 0, 100)], 4: [(2, 4, 30)], 3: [(3, 3, 40), (1, 3, 190)], 1: [(1, 1, 50)], 5: [(1, 5, 140)]}\n",
      "Random solution: fitness -190.000000; {4: [(2, 4, 30)], 0: [(0, 0, 30), (1, 0, 100)], 3: [(3, 3, 40), (1, 3, 190)], 1: [(1, 1, 50)], 5: [(1, 5, 140)]}\n",
      "Random solution: fitness -190.000000; {0: [(0, 0, 30), (1, 0, 100)], 4: [(2, 4, 30)], 3: [(3, 3, 40), (1, 3, 190)], 1: [(1, 1, 50)], 5: [(1, 5, 140)]}\n",
      "Random solution: fitness -190.000000; {0: [(0, 0, 30), (1, 0, 100)], 4: [(2, 4, 30)], 3: [(3, 3, 40), (1, 3, 190)], 1: [(1, 1, 50)], 5: [(1, 5, 140)]}\n",
      "===\n",
      "Random solution: fitness -190.000000; {4: [(2, 4, 30)], 0: [(0, 0, 30), (1, 0, 100)], 3: [(3, 3, 40), (1, 3, 190)], 1: [(1, 1, 50)], 5: [(1, 5, 140)]}\n",
      "Random solution: fitness -190.000000; {0: [(0, 0, 30), (1, 0, 100)], 4: [(2, 4, 30)], 3: [(3, 3, 40), (1, 3, 190)], 1: [(1, 1, 50)], 5: [(1, 5, 140)]}\n",
      "Random solution: fitness -190.000000; {0: [(0, 0, 30), (1, 0, 100)], 4: [(2, 4, 30)], 3: [(3, 3, 40), (1, 3, 190)], 1: [(1, 1, 50)], 5: [(1, 5, 140)]}\n",
      "Random solution: fitness -190.000000; {3: [(3, 3, 40), (1, 3, 190)], 0: [(0, 0, 30), (1, 0, 100)], 4: [(2, 4, 30)], 1: [(1, 1, 50)], 5: [(1, 5, 140)]}\n",
      "Random solution: fitness -190.000000; {0: [(0, 0, 30), (1, 0, 100)], 3: [(3, 3, 40), (1, 3, 190)], 4: [(2, 4, 30)], 1: [(1, 1, 50)], 5: [(1, 5, 140)]}\n",
      "===\n",
      "Random solution: fitness -190.000000; {3: [(3, 3, 40), (1, 3, 190)], 4: [(2, 4, 30)], 1: [(1, 1, 50)], 0: [(0, 0, 30), (1, 0, 100)], 5: [(1, 5, 140)]}\n",
      "Random solution: fitness -190.000000; {0: [(0, 0, 30), (1, 0, 100)], 3: [(3, 3, 40), (1, 3, 190)], 4: [(2, 4, 30)], 1: [(1, 1, 50)], 5: [(1, 5, 140)]}\n",
      "Random solution: fitness -230.000000; {1: [(1, 1, 50)], 4: [(2, 4, 30)], 0: [(1, 0, 100), (0, 0, 130)], 5: [(1, 5, 140)], 3: [(1, 3, 190), (3, 3, 230)]}\n",
      "Random solution: fitness -190.000000; {1: [(1, 1, 50)], 4: [(2, 4, 30)], 0: [(0, 0, 30), (1, 0, 100)], 3: [(3, 3, 40), (1, 3, 190)], 5: [(1, 5, 140)]}\n",
      "Random solution: fitness -190.000000; {4: [(2, 4, 30)], 3: [(3, 3, 40), (1, 3, 190)], 1: [(1, 1, 50)], 0: [(1, 0, 100), (0, 0, 130)], 5: [(1, 5, 140)]}\n"
     ]
    }
   ],
   "source": [
    "\n",
    "alpha = 0.0 # completely greedy\n",
    "\n",
    "for i in range(5):\n",
    "    x = randsol()\n",
    "    print(\"Random solution: fitness %f; %s\" % (fitness(x), str(x)))\n",
    "    \n",
    "print(\"===\")    \n",
    "    \n",
    "alpha = 0.5 # half way\n",
    "\n",
    "for i in range(5):\n",
    "    x = randsol()\n",
    "    print(\"Random solution: fitness %f; %s\" % (fitness(x), str(x)))\n",
    "    \n",
    "print(\"===\")    \n",
    "    \n",
    "alpha = 1.0 # completely random\n",
    "\n",
    "for i in range(5):\n",
    "    x = randsol()\n",
    "    print(\"Random solution: fitness %f; %s\" % (fitness(x), str(x)))\n",
    "\n",
    "\n",
    "\n"
   ]
  },
  {
   "cell_type": "markdown",
   "metadata": {},
   "source": [
    "### Optimization"
   ]
  },
  {
   "cell_type": "code",
   "execution_count": 25,
   "metadata": {},
   "outputs": [
    {
     "name": "stdout",
     "output_type": "stream",
     "text": [
      "-190 {4: [(2, 4, 30)], 0: [(0, 0, 30), (1, 0, 100)], 3: [(3, 3, 40), (1, 3, 190)], 1: [(1, 1, 50)], 5: [(1, 5, 140)]}\n",
      "-190 {3: [(3, 3, 40), (1, 3, 190)], 4: [(2, 4, 30)], 0: [(0, 0, 30), (1, 0, 100)], 1: [(1, 1, 50)], 5: [(1, 5, 140)]}\n",
      "-190 {1: [(1, 1, 50)], 0: [(0, 0, 30), (1, 0, 100)], 3: [(3, 3, 40), (1, 3, 190)], 4: [(2, 4, 30)], 5: [(1, 5, 140)]}\n"
     ]
    }
   ],
   "source": [
    "\n",
    "alpha = 0.0 # completely greedy\n",
    "\n",
    "ind, fit = solve(randsol, fitness, solver=\"MGA\")\n",
    "print(fit, ind)\n",
    "\n",
    "alpha = 0.5 # half way\n",
    "\n",
    "ind, fit = solve(randsol, fitness, solver=\"MGA\")\n",
    "print(fit, ind)\n",
    "\n",
    "alpha = 1.0 # completely random\n",
    "\n",
    "ind, fit = solve(randsol, fitness, solver=\"MGA\")\n",
    "print(fit, ind)"
   ]
  },
  {
   "cell_type": "markdown",
   "metadata": {},
   "source": [
    "### Hyperparameters"
   ]
  },
  {
   "cell_type": "code",
   "execution_count": 26,
   "metadata": {},
   "outputs": [
    {
     "name": "stdout",
     "output_type": "stream",
     "text": [
      "-190 {0: [(0, 0, 30), (1, 0, 100)], 4: [(2, 4, 30)], 3: [(3, 3, 40), (1, 3, 190)], 1: [(1, 1, 50)], 5: [(1, 5, 140)]}\n",
      "-190 {4: [(2, 4, 30)], 0: [(0, 0, 30), (1, 0, 100)], 3: [(3, 3, 40), (1, 3, 190)], 1: [(1, 1, 50)], 5: [(1, 5, 140)]}\n",
      "-190 {4: [(2, 4, 30)], 0: [(0, 0, 30), (1, 0, 100)], 3: [(3, 3, 40), (1, 3, 190)], 1: [(1, 1, 50)], 5: [(1, 5, 140)]}\n",
      "-190 {0: [(0, 0, 30), (1, 0, 100)], 4: [(2, 4, 30)], 3: [(3, 3, 40), (1, 3, 190)], 1: [(1, 1, 50)], 5: [(1, 5, 140)]}\n",
      "===\n",
      "-190 {4: [(2, 4, 30)], 3: [(3, 3, 40), (1, 3, 190)], 0: [(0, 0, 30), (1, 0, 100)], 1: [(1, 1, 50)], 5: [(1, 5, 140)]}\n",
      "-190 {3: [(3, 3, 40), (1, 3, 190)], 4: [(2, 4, 30)], 0: [(0, 0, 30), (1, 0, 100)], 1: [(1, 1, 50)], 5: [(1, 5, 140)]}\n",
      "-190 {4: [(2, 4, 30)], 3: [(3, 3, 40), (1, 3, 190)], 0: [(0, 0, 30), (1, 0, 100)], 1: [(1, 1, 50)], 5: [(1, 5, 140)]}\n",
      "-190 {0: [(0, 0, 30), (1, 0, 100)], 3: [(3, 3, 40), (1, 3, 190)], 4: [(2, 4, 30)], 1: [(1, 1, 50)], 5: [(1, 5, 140)]}\n",
      "===\n",
      "-190 {4: [(2, 4, 30)], 1: [(1, 1, 50)], 0: [(0, 0, 30), (1, 0, 100)], 3: [(3, 3, 40), (1, 3, 190)], 5: [(1, 5, 140)]}\n",
      "-190 {4: [(2, 4, 30)], 1: [(1, 1, 50)], 3: [(3, 3, 40), (1, 3, 190)], 0: [(0, 0, 30), (1, 0, 100)], 5: [(1, 5, 140)]}\n",
      "-190 {3: [(3, 3, 40), (1, 3, 190)], 1: [(1, 1, 50)], 0: [(1, 0, 100), (0, 0, 130)], 5: [(1, 5, 140)], 4: [(2, 4, 30)]}\n",
      "-190 {0: [(0, 0, 30), (1, 0, 100)], 4: [(2, 4, 30)], 3: [(3, 3, 40), (1, 3, 190)], 1: [(1, 1, 50)], 5: [(1, 5, 140)]}\n"
     ]
    }
   ],
   "source": [
    "\n",
    "alpha = 0.0 # completely greedy\n",
    "\n",
    "ind, fit = solve(randsol, fitness, solver=\"MGA\", budget=15)\n",
    "print(fit, ind)\n",
    "ind, fit = solve(randsol, fitness, solver=\"MGA\", budget=150)\n",
    "print(fit, ind)\n",
    "ind, fit = solve(randsol, fitness, solver=\"MGA\", effort=1)\n",
    "print(fit, ind)\n",
    "ind, fit = solve(randsol, fitness, solver=\"MGA\", effort=2)\n",
    "print(fit, ind)\n",
    "\n",
    "print(\"===\") \n",
    "\n",
    "alpha = 0.5 # half way\n",
    "\n",
    "ind, fit = solve(randsol, fitness, solver=\"MGA\", budget=15)\n",
    "print(fit, ind)\n",
    "ind, fit = solve(randsol, fitness, solver=\"MGA\", budget=150)\n",
    "print(fit, ind)\n",
    "ind, fit = solve(randsol, fitness, solver=\"MGA\", effort=1)\n",
    "print(fit, ind)\n",
    "ind, fit = solve(randsol, fitness, solver=\"MGA\", effort=2)\n",
    "print(fit, ind)\n",
    "\n",
    "print(\"===\") \n",
    "\n",
    "alpha = 1.0 # completely random\n",
    "\n",
    "ind, fit = solve(randsol, fitness, solver=\"MGA\", budget=15)\n",
    "print(fit, ind)\n",
    "ind, fit = solve(randsol, fitness, solver=\"MGA\", budget=150)\n",
    "print(fit, ind)\n",
    "ind, fit = solve(randsol, fitness, solver=\"MGA\", effort=1)\n",
    "print(fit, ind)\n",
    "ind, fit = solve(randsol, fitness, solver=\"MGA\", effort=2)\n",
    "print(fit, ind)\n"
   ]
  },
  {
   "cell_type": "code",
   "execution_count": null,
   "metadata": {
    "collapsed": true
   },
   "outputs": [],
   "source": []
  }
 ],
 "metadata": {
  "kernelspec": {
   "display_name": "Python 3",
   "language": "python",
   "name": "python3"
  },
  "language_info": {
   "codemirror_mode": {
    "name": "ipython",
    "version": 3
   },
   "file_extension": ".py",
   "mimetype": "text/x-python",
   "name": "python",
   "nbconvert_exporter": "python",
   "pygments_lexer": "ipython3",
   "version": "3.7.3"
  }
 },
 "nbformat": 4,
 "nbformat_minor": 1
}
