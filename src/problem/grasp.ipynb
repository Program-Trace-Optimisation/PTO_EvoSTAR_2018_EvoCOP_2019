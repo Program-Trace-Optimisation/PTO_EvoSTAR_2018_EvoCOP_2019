{
 "cells": [
  {
   "cell_type": "markdown",
   "metadata": {
    "collapsed": true
   },
   "source": [
    "## Program Trace Optimisation: GRASP\n",
    "\n"
   ]
  },
  {
   "cell_type": "code",
   "execution_count": 1,
   "metadata": {
    "collapsed": true
   },
   "outputs": [],
   "source": [
    "from PTO import random, solve"
   ]
  },
  {
   "cell_type": "markdown",
   "metadata": {
    "collapsed": true
   },
   "source": [
    "### Generic GRASP generator\n"
   ]
  },
  {
   "cell_type": "code",
   "execution_count": 2,
   "metadata": {
    "collapsed": true
   },
   "outputs": [],
   "source": [
    "alpha = 0.5 # completely greedy: 0.0, completely random: 1.0 \n",
    "\n",
    "def randsol():\n",
    "  solution = empty_solution()\n",
    "  while(not complete(solution)):\n",
    "    #print(solution)\n",
    "    features = allowed_features(solution)\n",
    "    costs = {feat:cost_feature(solution, feat) for feat in features}\n",
    "    min_cost, max_cost = min(costs.values()), max(costs.values())\n",
    "    RCL = [feat for feat in features if costs[feat] <= min_cost + alpha * (max_cost - min_cost)]\n",
    "    #print(RCL)\n",
    "    selected_feature = random.choice(RCL) # only source of randomness\n",
    "    solution = add_feature(solution, selected_feature)\n",
    "  return solution "
   ]
  },
  {
   "cell_type": "markdown",
   "metadata": {},
   "source": [
    "### Specific GRASP functions for the SORTING problem"
   ]
  },
  {
   "cell_type": "code",
   "execution_count": 3,
   "metadata": {
    "collapsed": true
   },
   "outputs": [],
   "source": [
    "n=10\n",
    "\n",
    "def empty_solution():\n",
    "  return []\n",
    "\n",
    "def complete(solution):\n",
    "  return len(solution)==n\n",
    "\n",
    "def allowed_features(solution):\n",
    "  all_items = range(1,n+1)\n",
    "  remaining_items = [item for item in all_items if item not in solution]\n",
    "  return remaining_items\n",
    "\n",
    "def cost_feature(solution, feat):\n",
    "  last_item = solution[-1] if len(solution)>0 else 0\n",
    "  dist = abs(feat - last_item)\n",
    "  return dist\n",
    "\n",
    "def add_feature(solution, feat):\n",
    "  sol = solution[:] + [feat]\n",
    "  return sol"
   ]
  },
  {
   "cell_type": "markdown",
   "metadata": {},
   "source": [
    "### Fitness function "
   ]
  },
  {
   "cell_type": "code",
   "execution_count": 4,
   "metadata": {
    "collapsed": true
   },
   "outputs": [],
   "source": [
    "def fitness(solution): # cost to minimise, best solution has cost 0\n",
    "  return -sum([abs(solution[pos]-(pos+1)) for pos in range(n)])"
   ]
  },
  {
   "cell_type": "markdown",
   "metadata": {},
   "source": [
    "### Testing our generator and fitness"
   ]
  },
  {
   "cell_type": "code",
   "execution_count": 5,
   "metadata": {},
   "outputs": [
    {
     "name": "stdout",
     "output_type": "stream",
     "text": [
      "Random solution: fitness 0; [1, 2, 3, 4, 5, 6, 7, 8, 9, 10]\n",
      "Random solution: fitness 0; [1, 2, 3, 4, 5, 6, 7, 8, 9, 10]\n",
      "Random solution: fitness 0; [1, 2, 3, 4, 5, 6, 7, 8, 9, 10]\n",
      "Random solution: fitness 0; [1, 2, 3, 4, 5, 6, 7, 8, 9, 10]\n",
      "Random solution: fitness 0; [1, 2, 3, 4, 5, 6, 7, 8, 9, 10]\n",
      "===\n",
      "Random solution: fitness -36; [1, 5, 7, 6, 9, 10, 8, 3, 4, 2]\n",
      "Random solution: fitness -30; [4, 2, 5, 6, 9, 10, 7, 8, 3, 1]\n",
      "Random solution: fitness -26; [2, 6, 8, 7, 4, 3, 1, 5, 9, 10]\n",
      "Random solution: fitness -20; [5, 6, 3, 4, 1, 2, 7, 9, 10, 8]\n",
      "Random solution: fitness -10; [4, 1, 3, 2, 6, 5, 7, 9, 8, 10]\n",
      "===\n",
      "Random solution: fitness -38; [6, 4, 7, 5, 10, 8, 1, 3, 2, 9]\n",
      "Random solution: fitness -40; [4, 7, 10, 8, 5, 2, 1, 9, 6, 3]\n",
      "Random solution: fitness -44; [6, 7, 9, 4, 8, 3, 10, 5, 1, 2]\n",
      "Random solution: fitness -36; [4, 7, 10, 6, 1, 5, 2, 9, 8, 3]\n",
      "Random solution: fitness -40; [8, 6, 2, 5, 9, 10, 4, 1, 3, 7]\n"
     ]
    }
   ],
   "source": [
    "alpha = 0.0 # completely greedy\n",
    "\n",
    "for i in range(5):\n",
    "    x = randsol()\n",
    "    print(\"Random solution: fitness %d; %s\" % (fitness(x), str(x)))\n",
    "    \n",
    "print(\"===\")    \n",
    "    \n",
    "alpha = 0.5 # half way\n",
    "\n",
    "for i in range(5):\n",
    "    x = randsol()\n",
    "    print(\"Random solution: fitness %d; %s\" % (fitness(x), str(x)))\n",
    "    \n",
    "print(\"===\")    \n",
    "    \n",
    "alpha = 1.0 # completely random\n",
    "\n",
    "for i in range(5):\n",
    "    x = randsol()\n",
    "    print(\"Random solution: fitness %d; %s\" % (fitness(x), str(x)))"
   ]
  },
  {
   "cell_type": "markdown",
   "metadata": {
    "collapsed": true
   },
   "source": [
    "### Optimization\n",
    "\n"
   ]
  },
  {
   "cell_type": "code",
   "execution_count": 6,
   "metadata": {},
   "outputs": [
    {
     "name": "stdout",
     "output_type": "stream",
     "text": [
      "0 [1, 2, 3, 4, 5, 6, 7, 8, 9, 10]\n",
      "-10 [2, 1, 4, 7, 5, 6, 3, 8, 9, 10]\n",
      "-18 [9, 3, 1, 4, 5, 6, 7, 2, 8, 10]\n"
     ]
    }
   ],
   "source": [
    "alpha = 0.0 # completely greedy\n",
    "\n",
    "ind, fit = solve(randsol, fitness, solver=\"RS\")\n",
    "print(fit, ind)\n",
    "\n",
    "alpha = 0.5 # half way\n",
    "\n",
    "ind, fit = solve(randsol, fitness, solver=\"RS\")\n",
    "print(fit, ind)\n",
    "\n",
    "alpha = 1.0 # completely random\n",
    "\n",
    "ind, fit = solve(randsol, fitness, solver=\"RS\")\n",
    "print(fit, ind)"
   ]
  },
  {
   "cell_type": "markdown",
   "metadata": {},
   "source": [
    "### Hyperparameters\n",
    "\n"
   ]
  },
  {
   "cell_type": "code",
   "execution_count": 7,
   "metadata": {},
   "outputs": [
    {
     "name": "stdout",
     "output_type": "stream",
     "text": [
      "0 [1, 2, 3, 4, 5, 6, 7, 8, 9, 10]\n",
      "0 [1, 2, 3, 4, 5, 6, 7, 8, 9, 10]\n",
      "0 [1, 2, 3, 4, 5, 6, 7, 8, 9, 10]\n",
      "0 [1, 2, 3, 4, 5, 6, 7, 8, 9, 10]\n",
      "===\n",
      "-22 [4, 2, 3, 6, 5, 8, 10, 9, 7, 1]\n",
      "-12 [4, 5, 2, 1, 3, 6, 7, 8, 9, 10]\n",
      "-18 [4, 2, 3, 1, 7, 9, 8, 6, 5, 10]\n",
      "-6 [2, 1, 4, 3, 6, 5, 7, 8, 9, 10]\n",
      "===\n",
      "-16 [1, 7, 2, 4, 6, 3, 9, 5, 8, 10]\n",
      "-16 [1, 10, 2, 4, 3, 6, 7, 5, 9, 8]\n",
      "-32 [3, 7, 9, 1, 8, 6, 5, 4, 2, 10]\n",
      "-10 [4, 2, 3, 1, 5, 6, 8, 7, 10, 9]\n"
     ]
    }
   ],
   "source": [
    "alpha = 0.0 # completely greedy\n",
    "\n",
    "ind, fit = solve(randsol, fitness, solver=\"HC\", budget=15)\n",
    "print(fit, ind)\n",
    "ind, fit = solve(randsol, fitness, solver=\"HC\", budget=150)\n",
    "print(fit, ind)\n",
    "ind, fit = solve(randsol, fitness, solver=\"HC\", effort=1)\n",
    "print(fit, ind)\n",
    "ind, fit = solve(randsol, fitness, solver=\"HC\", effort=2)\n",
    "print(fit, ind)\n",
    "\n",
    "print(\"===\") \n",
    "\n",
    "alpha = 0.5 # half way\n",
    "\n",
    "ind, fit = solve(randsol, fitness, solver=\"HC\", budget=15)\n",
    "print(fit, ind)\n",
    "ind, fit = solve(randsol, fitness, solver=\"HC\", budget=150)\n",
    "print(fit, ind)\n",
    "ind, fit = solve(randsol, fitness, solver=\"HC\", effort=1)\n",
    "print(fit, ind)\n",
    "ind, fit = solve(randsol, fitness, solver=\"HC\", effort=2)\n",
    "print(fit, ind)\n",
    "\n",
    "print(\"===\") \n",
    "\n",
    "alpha = 1.0 # completely random\n",
    "\n",
    "ind, fit = solve(randsol, fitness, solver=\"HC\", budget=15)\n",
    "print(fit, ind)\n",
    "ind, fit = solve(randsol, fitness, solver=\"HC\", budget=150)\n",
    "print(fit, ind)\n",
    "ind, fit = solve(randsol, fitness, solver=\"HC\", effort=1)\n",
    "print(fit, ind)\n",
    "ind, fit = solve(randsol, fitness, solver=\"HC\", effort=2)\n",
    "print(fit, ind)\n"
   ]
  },
  {
   "cell_type": "markdown",
   "metadata": {},
   "source": [
    "### Specific GRASP functions for the TSP problem"
   ]
  },
  {
   "cell_type": "code",
   "execution_count": 14,
   "metadata": {},
   "outputs": [],
   "source": [
    "#alpha = 0.7\n",
    "\n",
    "n = 10\n",
    "#dist = [[0, 20, 42, 35], [20, 0, 30, 34], [42, 30, 0, 12], [35, 34, 12, 0]]\n",
    "dist = [[random.random() for i in range(n)] for j in range(n)]\n",
    "#print(dist)\n",
    "\n",
    "def empty_solution():\n",
    "  return [0] # start tour always from first city \n",
    "\n",
    "def complete(solution):\n",
    "  return len(solution)==n\n",
    "\n",
    "def allowed_features(solution):\n",
    "  all_items = range(n)\n",
    "  remaining_items = [item for item in all_items if item not in solution]\n",
    "  return remaining_items\n",
    "\n",
    "def cost_feature(solution, feat):\n",
    "  last_city = solution[-1]\n",
    "  d = dist[last_city][feat]\n",
    "  return d\n",
    "\n",
    "def add_feature(solution, feat):\n",
    "  sol = solution[:] + [feat]\n",
    "  return sol\n",
    "\n",
    " "
   ]
  },
  {
   "cell_type": "markdown",
   "metadata": {},
   "source": [
    "### Fitness function "
   ]
  },
  {
   "cell_type": "code",
   "execution_count": 18,
   "metadata": {
    "collapsed": true
   },
   "outputs": [],
   "source": [
    "def fitness(solution):\n",
    "  return -(sum([dist[solution[pos]][solution[pos+1]] for pos in range(n-1)]) + dist[solution[0]][solution[-1]])\n"
   ]
  },
  {
   "cell_type": "markdown",
   "metadata": {},
   "source": [
    "### Testing our generator and fitness"
   ]
  },
  {
   "cell_type": "code",
   "execution_count": 19,
   "metadata": {},
   "outputs": [
    {
     "name": "stdout",
     "output_type": "stream",
     "text": [
      "Random solution: fitness -2.210972; [0, 4, 6, 5, 2, 3, 1, 8, 7, 9]\n",
      "Random solution: fitness -2.210972; [0, 4, 6, 5, 2, 3, 1, 8, 7, 9]\n",
      "Random solution: fitness -2.210972; [0, 4, 6, 5, 2, 3, 1, 8, 7, 9]\n",
      "Random solution: fitness -2.210972; [0, 4, 6, 5, 2, 3, 1, 8, 7, 9]\n",
      "Random solution: fitness -2.210972; [0, 4, 6, 5, 2, 3, 1, 8, 7, 9]\n",
      "===\n",
      "Random solution: fitness -2.733481; [0, 1, 3, 2, 8, 7, 9, 4, 6, 5]\n",
      "Random solution: fitness -3.293515; [0, 6, 4, 7, 3, 5, 2, 8, 1, 9]\n",
      "Random solution: fitness -2.906504; [0, 9, 7, 3, 2, 8, 5, 1, 6, 4]\n",
      "Random solution: fitness -4.056748; [0, 9, 2, 6, 1, 4, 3, 5, 8, 7]\n",
      "Random solution: fitness -2.800475; [0, 9, 4, 2, 7, 8, 3, 5, 1, 6]\n",
      "===\n",
      "Random solution: fitness -4.416159; [0, 9, 4, 8, 2, 6, 7, 3, 5, 1]\n",
      "Random solution: fitness -4.657025; [0, 4, 7, 3, 1, 9, 8, 6, 5, 2]\n",
      "Random solution: fitness -4.678937; [0, 2, 6, 4, 8, 3, 1, 7, 9, 5]\n",
      "Random solution: fitness -4.010618; [0, 4, 8, 2, 7, 9, 3, 6, 1, 5]\n",
      "Random solution: fitness -4.369675; [0, 8, 5, 4, 9, 7, 6, 1, 2, 3]\n"
     ]
    }
   ],
   "source": [
    "\n",
    "alpha = 0.0 # completely greedy\n",
    "\n",
    "for i in range(5):\n",
    "    x = randsol()\n",
    "    print(\"Random solution: fitness %f; %s\" % (fitness(x), str(x)))\n",
    "    \n",
    "print(\"===\")    \n",
    "    \n",
    "alpha = 0.5 # half way\n",
    "\n",
    "for i in range(5):\n",
    "    x = randsol()\n",
    "    print(\"Random solution: fitness %f; %s\" % (fitness(x), str(x)))\n",
    "    \n",
    "print(\"===\")    \n",
    "    \n",
    "alpha = 1.0 # completely random\n",
    "\n",
    "for i in range(5):\n",
    "    x = randsol()\n",
    "    print(\"Random solution: fitness %f; %s\" % (fitness(x), str(x)))\n",
    "\n",
    "\n",
    "\n"
   ]
  },
  {
   "cell_type": "markdown",
   "metadata": {},
   "source": [
    "### Optimization"
   ]
  },
  {
   "cell_type": "code",
   "execution_count": 20,
   "metadata": {},
   "outputs": [
    {
     "name": "stdout",
     "output_type": "stream",
     "text": [
      "-2.210972246510223 [0, 4, 6, 5, 2, 3, 1, 8, 7, 9]\n",
      "-2.2747265772899836 [0, 1, 6, 4, 2, 8, 7, 9, 3, 5]\n",
      "-3.2668682643471323 [0, 9, 6, 4, 7, 2, 8, 5, 1, 3]\n"
     ]
    }
   ],
   "source": [
    "\n",
    "alpha = 0.0 # completely greedy\n",
    "\n",
    "ind, fit = solve(randsol, fitness, solver=\"RS\")\n",
    "print(fit, ind)\n",
    "\n",
    "alpha = 0.5 # half way\n",
    "\n",
    "ind, fit = solve(randsol, fitness, solver=\"RS\")\n",
    "print(fit, ind)\n",
    "\n",
    "alpha = 1.0 # completely random\n",
    "\n",
    "ind, fit = solve(randsol, fitness, solver=\"RS\")\n",
    "print(fit, ind)"
   ]
  },
  {
   "cell_type": "markdown",
   "metadata": {},
   "source": [
    "### Hyperparameters"
   ]
  },
  {
   "cell_type": "code",
   "execution_count": 22,
   "metadata": {},
   "outputs": [
    {
     "name": "stdout",
     "output_type": "stream",
     "text": [
      "-2.210972246510223 [0, 4, 6, 5, 2, 3, 1, 8, 7, 9]\n",
      "-2.210972246510223 [0, 4, 6, 5, 2, 3, 1, 8, 7, 9]\n",
      "-2.210972246510223 [0, 4, 6, 5, 2, 3, 1, 8, 7, 9]\n",
      "-2.210972246510223 [0, 4, 6, 5, 2, 3, 1, 8, 7, 9]\n",
      "===\n",
      "-2.0970662842989976 [0, 4, 6, 5, 8, 7, 9, 2, 3, 1]\n",
      "-1.865103140263126 [0, 4, 7, 9, 2, 8, 3, 1, 6, 5]\n",
      "-2.3529470397134387 [0, 1, 4, 7, 8, 3, 5, 2, 6, 9]\n",
      "-1.865103140263126 [0, 4, 7, 9, 2, 8, 3, 1, 6, 5]\n",
      "===\n",
      "-3.7669026366352103 [0, 5, 2, 7, 1, 6, 9, 4, 8, 3]\n",
      "-2.177397857033614 [0, 8, 3, 5, 2, 4, 7, 9, 6, 1]\n",
      "-4.211265911619105 [0, 3, 5, 6, 7, 8, 9, 4, 2, 1]\n",
      "-3.1779472632308203 [0, 5, 3, 9, 7, 2, 8, 4, 6, 1]\n"
     ]
    }
   ],
   "source": [
    "\n",
    "alpha = 0.0 # completely greedy\n",
    "\n",
    "ind, fit = solve(randsol, fitness, solver=\"HC\", budget=15)\n",
    "print(fit, ind)\n",
    "ind, fit = solve(randsol, fitness, solver=\"HC\", budget=150)\n",
    "print(fit, ind)\n",
    "ind, fit = solve(randsol, fitness, solver=\"HC\", effort=1)\n",
    "print(fit, ind)\n",
    "ind, fit = solve(randsol, fitness, solver=\"HC\", effort=2)\n",
    "print(fit, ind)\n",
    "\n",
    "print(\"===\") \n",
    "\n",
    "alpha = 0.5 # half way\n",
    "\n",
    "ind, fit = solve(randsol, fitness, solver=\"HC\", budget=15)\n",
    "print(fit, ind)\n",
    "ind, fit = solve(randsol, fitness, solver=\"HC\", budget=150)\n",
    "print(fit, ind)\n",
    "ind, fit = solve(randsol, fitness, solver=\"HC\", effort=1)\n",
    "print(fit, ind)\n",
    "ind, fit = solve(randsol, fitness, solver=\"HC\", effort=2)\n",
    "print(fit, ind)\n",
    "\n",
    "print(\"===\") \n",
    "\n",
    "alpha = 1.0 # completely random\n",
    "\n",
    "ind, fit = solve(randsol, fitness, solver=\"HC\", budget=15)\n",
    "print(fit, ind)\n",
    "ind, fit = solve(randsol, fitness, solver=\"HC\", budget=150)\n",
    "print(fit, ind)\n",
    "ind, fit = solve(randsol, fitness, solver=\"HC\", effort=1)\n",
    "print(fit, ind)\n",
    "ind, fit = solve(randsol, fitness, solver=\"HC\", effort=2)\n",
    "print(fit, ind)\n"
   ]
  },
  {
   "cell_type": "code",
   "execution_count": null,
   "metadata": {
    "collapsed": true
   },
   "outputs": [],
   "source": []
  }
 ],
 "metadata": {
  "kernelspec": {
   "display_name": "Python 3",
   "language": "python",
   "name": "python3"
  },
  "language_info": {
   "codemirror_mode": {
    "name": "ipython",
    "version": 3
   },
   "file_extension": ".py",
   "mimetype": "text/x-python",
   "name": "python",
   "nbconvert_exporter": "python",
   "pygments_lexer": "ipython3",
   "version": "3.6.5"
  }
 },
 "nbformat": 4,
 "nbformat_minor": 1
}
