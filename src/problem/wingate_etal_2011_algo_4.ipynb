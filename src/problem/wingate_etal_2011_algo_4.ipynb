{
 "cells": [
  {
   "cell_type": "markdown",
   "metadata": {},
   "source": [
    "Wingate et al., AIstat_summary 2011, Algorithm 4\n",
    "---\n",
    "\n",
    "This paper by Wingate et al. proposes methods for recording, editing, and playing-back program traces, which become core components in PTO.\n",
    "\n",
    "Algorithm 4 in this paper is \"An illustration how the number and type of random choices can change.\" It is a short program which implicitly defines a distribution. \n",
    "\n",
    "The algorithm is (in Matlab):\n",
    "\n",
    "```\n",
    "1: m=poissrnd();\n",
    "2: for i=1:m\n",
    "3:     X(i) = gammarnd();\n",
    "4: end;\n",
    "5: for i=m+1:2*m\n",
    "6:     X(i) = randn;\n",
    "7: end;\n",
    "```\n",
    "\n",
    "It's intended as a distribution we might want to sample from, but for PTO purposes, let's define a fitness function on it -- `sum` -- and try to optimise it. The reason it's interesting for both Wingate et al. and for us is that the number `m` can change, which, in a naive implementation of program traces, would mean we were interpreting old trace material, previously used to sample from a gamma distribution, to sample from a normal, which would lead to bad results. Wingate et al. propose a better program trace implementation which avoids that, and which we therefore adopt in PTO.\n",
    "\n",
    "\n",
    "Implementing the problem for PTO\n",
    "---\n",
    "\n",
    "We first define the problem by defining the generator and fitness. Numpy provides the functions we need, but we are not using Numpy in our PTO generator code, for now (we will still use it for analysis, though). Python's standard library `random` module provides `gammavariate` and `normalvariate`, but it doesn't provide a Poisson variate, so we will implement that first."
   ]
  },
  {
   "cell_type": "code",
   "execution_count": 1,
   "metadata": {
    "collapsed": true
   },
   "outputs": [],
   "source": [
    "import random, math\n",
    "def poissonvariate(lamb):\n",
    "    \"\"\"A method which will be slow for large lambda\n",
    "    From https://www.johndcook.com/blog/2010/06/14/generating-poisson-random-values/\n",
    "init:\n",
    "         Let L ← exp(−λ), k ← 0 and p ← 1.\n",
    "do:\n",
    "         k ← k + 1.\n",
    "         Generate uniform random number u in [0,1] and let p ← p × u.\n",
    "while p > L.\n",
    "return k − 1.\n",
    "\n",
    ">>> sum([poissonvariate(2.5) for _ in range(100)]) / 100.0\n",
    " -> a value near 2.5\n",
    "    \"\"\"\n",
    "    L = math.exp(-lamb)\n",
    "    k = 0\n",
    "    p = 1\n",
    "    while p > L:\n",
    "        k += 1\n",
    "        u = random.random()\n",
    "        p *= u\n",
    "    return k - 1"
   ]
  },
  {
   "cell_type": "markdown",
   "metadata": {},
   "source": [
    "Then, the generator closely mimics the original Matlab. Fitness is just `sum` as stated."
   ]
  },
  {
   "cell_type": "code",
   "execution_count": 2,
   "metadata": {
    "collapsed": true
   },
   "outputs": [],
   "source": [
    "def generator():\n",
    "    m = poissonvariate(10)\n",
    "    X = []\n",
    "    for i in range(m):\n",
    "        X.append(random.gammavariate(1, 1)) # alpha=1, beta=1\n",
    "    for i in range(m):\n",
    "        X.append(random.normalvariate(0, 1))\n",
    "    return X\n",
    "fitness = sum"
   ]
  },
  {
   "cell_type": "code",
   "execution_count": 3,
   "metadata": {
    "collapsed": true
   },
   "outputs": [],
   "source": [
    "from PTO import random, random_function, solve"
   ]
  },
  {
   "cell_type": "code",
   "execution_count": 4,
   "metadata": {},
   "outputs": [
    {
     "name": "stdout",
     "output_type": "stream",
     "text": [
      "[1.1250017242418833, 0.03440916362225633, 1.2527401514967758, 0.48426153719285503, 1.3708654354886314, 1.4606277159874475, 0.06843229168290292, 1.705244945114607, 2.436036978341712, 0.7599906487459528, 0.10948734179255812, 1.0363381356236474, 0.899048506757045, 0.1323435110086408, 1.895726098059353, 1.234083009302191, 0.35502190034742154, 0.9826755349121823, 1.44459866916048, 0.4628223350521674, 0.2253260210722508, 1.1179371324600886, 0.6812351732496652, 0.5325693343224871, 0.731307848540265, -0.3667340228207865, 1.587646711796417, 0.4199073112597792]\n",
      "('fitness: ', 24.17895114381088)\n"
     ]
    }
   ],
   "source": [
    "ind, fit = solve(generator, fitness, solver=\"HC\", effort=1.0)\n",
    "print(ind)\n",
    "print(\"fitness: \", fit)"
   ]
  },
  {
   "cell_type": "markdown",
   "metadata": {},
   "source": [
    "Experiments and Analysis\n",
    "---\n",
    "\n",
    "Next, we can do a large run and carry out some analysis on our results. \n",
    "We'll import functions provided by PTO, and also use scipy.\n"
   ]
  },
  {
   "cell_type": "code",
   "execution_count": 5,
   "metadata": {
    "collapsed": true
   },
   "outputs": [],
   "source": [
    "from PTO import compare_all, stat_summary\n",
    "import scipy.stats # only for post-run analysis"
   ]
  },
  {
   "cell_type": "code",
   "execution_count": 6,
   "metadata": {},
   "outputs": [
    {
     "name": "stdout",
     "output_type": "stream",
     "text": [
      "(None, False, 'generator', 'RS') 38.0116251102\n",
      "(None, False, 'generator', 'HC') 131.285579646\n",
      "(None, False, 'generator', 'LA') 172.664080657\n",
      "(None, False, 'generator', 'EA') 129.231888812\n",
      "(None, False, 'generator', 'PS') 118.8642199\n",
      "(None, True, 'generator', 'RS') 43.3675204453\n",
      "(None, True, 'generator', 'HC') 367.445714938\n",
      "(None, True, 'generator', 'LA') 274.095546235\n",
      "(None, True, 'generator', 'EA') 265.053609808\n",
      "(None, True, 'generator', 'PS') 192.573180364\n",
      "(None, False, 'generator', 'RS') 37.4300091569\n",
      "(None, False, 'generator', 'HC') 143.025177524\n",
      "(None, False, 'generator', 'LA') 136.14143454\n",
      "(None, False, 'generator', 'EA') 136.556102761\n",
      "(None, False, 'generator', 'PS') 156.080370431\n",
      "(None, True, 'generator', 'RS') 39.8088577916\n",
      "(None, True, 'generator', 'HC') 362.931336414\n",
      "(None, True, 'generator', 'LA') 317.081544872\n",
      "(None, True, 'generator', 'EA') 307.182717566\n",
      "(None, True, 'generator', 'PS') 212.334785172\n",
      "(None, False, 'generator', 'RS') 38.0253001762\n",
      "(None, False, 'generator', 'HC') 110.509421951\n",
      "(None, False, 'generator', 'LA') 139.517076457\n",
      "(None, False, 'generator', 'EA') 124.456119102\n",
      "(None, False, 'generator', 'PS') 160.625798553\n",
      "(None, True, 'generator', 'RS') 33.5274938577\n",
      "(None, True, 'generator', 'HC') 348.012466556\n",
      "(None, True, 'generator', 'LA') 289.658475776\n",
      "(None, True, 'generator', 'EA') 262.45707806\n",
      "(None, True, 'generator', 'PS') 217.819155607\n",
      "(None, False, 'generator', 'RS') 39.518839443\n",
      "(None, False, 'generator', 'HC') 163.486690458\n",
      "(None, False, 'generator', 'LA') 147.159897018\n",
      "(None, False, 'generator', 'EA') 124.461575399\n",
      "(None, False, 'generator', 'PS') 127.440293599\n",
      "(None, True, 'generator', 'RS') 33.9714039687\n",
      "(None, True, 'generator', 'HC') 323.309079168\n",
      "(None, True, 'generator', 'LA') 260.694161142\n",
      "(None, True, 'generator', 'EA') 296.771602974\n",
      "(None, True, 'generator', 'PS') 222.113287267\n",
      "(None, False, 'generator', 'RS') 35.0008244351\n",
      "(None, False, 'generator', 'HC') 150.706335984\n",
      "(None, False, 'generator', 'LA') 150.616893887\n",
      "(None, False, 'generator', 'EA') 152.212832613\n",
      "(None, False, 'generator', 'PS') 119.99379547\n",
      "(None, True, 'generator', 'RS') 40.9175065115\n",
      "(None, True, 'generator', 'HC') 340.680917716\n",
      "(None, True, 'generator', 'LA') 295.314096834\n",
      "(None, True, 'generator', 'EA') 261.649309957\n",
      "(None, True, 'generator', 'PS') 225.782361583\n",
      "(None, False, 'generator', 'RS') 36.7552112003\n",
      "(None, False, 'generator', 'HC') 152.763467201\n",
      "(None, False, 'generator', 'LA') 167.830251916\n",
      "(None, False, 'generator', 'EA') 174.779790523\n",
      "(None, False, 'generator', 'PS') 135.993149155\n",
      "(None, True, 'generator', 'RS') 35.4997538358\n",
      "(None, True, 'generator', 'HC') 350.028600116\n",
      "(None, True, 'generator', 'LA') 343.535289878\n",
      "(None, True, 'generator', 'EA') 279.536643191\n",
      "(None, True, 'generator', 'PS') 218.265168136\n",
      "(None, False, 'generator', 'RS') 38.071924139\n",
      "(None, False, 'generator', 'HC') 169.3053158\n",
      "(None, False, 'generator', 'LA') 134.321598817\n",
      "(None, False, 'generator', 'EA') 129.615142832\n",
      "(None, False, 'generator', 'PS') 113.327017398\n",
      "(None, True, 'generator', 'RS') 36.6444487373\n",
      "(None, True, 'generator', 'HC') 342.245409236\n",
      "(None, True, 'generator', 'LA') 322.012849098\n",
      "(None, True, 'generator', 'EA') 269.641135924\n",
      "(None, True, 'generator', 'PS') 200.628735653\n",
      "(None, False, 'generator', 'RS') 36.7697711138\n",
      "(None, False, 'generator', 'HC') 127.446808848\n",
      "(None, False, 'generator', 'LA') 153.571353377\n",
      "(None, False, 'generator', 'EA') 134.193339447\n",
      "(None, False, 'generator', 'PS') 127.545145507\n",
      "(None, True, 'generator', 'RS') 32.3388061113\n",
      "(None, True, 'generator', 'HC') 306.857799933\n",
      "(None, True, 'generator', 'LA') 287.708992526\n",
      "(None, True, 'generator', 'EA') 259.910996513\n",
      "(None, True, 'generator', 'PS') 214.182749159\n",
      "(None, False, 'generator', 'RS') 38.5435069924\n",
      "(None, False, 'generator', 'HC') 131.021975707\n",
      "(None, False, 'generator', 'LA') 173.767270039\n",
      "(None, False, 'generator', 'EA') 140.661300932\n",
      "(None, False, 'generator', 'PS') 179.358740648\n",
      "(None, True, 'generator', 'RS') 44.4175615173\n",
      "(None, True, 'generator', 'HC') 330.155103289\n",
      "(None, True, 'generator', 'LA') 274.89356902\n",
      "(None, True, 'generator', 'EA') 285.457367026\n",
      "(None, True, 'generator', 'PS') 208.235964267\n",
      "(None, False, 'generator', 'RS') 43.8087843712\n",
      "(None, False, 'generator', 'HC') 120.88394933\n",
      "(None, False, 'generator', 'LA') 150.352082297\n",
      "(None, False, 'generator', 'EA') 137.833586116\n",
      "(None, False, 'generator', 'PS') 128.099559802\n",
      "(None, True, 'generator', 'RS') 38.084106417\n",
      "(None, True, 'generator', 'HC') 327.952180956\n",
      "(None, True, 'generator', 'LA') 293.364658385\n",
      "(None, True, 'generator', 'EA') 300.972072037\n",
      "(None, True, 'generator', 'PS') 188.831497501\n"
     ]
    }
   ],
   "source": [
    "# compare_all: you can pass in sizes if needed, else None. It uses 'budget', not 'effort'.\n",
    "results = compare_all(fitness, [generator], sizes=None, \n",
    "                      methods=None, budget=10000, num_runs=10)"
   ]
  },
  {
   "cell_type": "markdown",
   "metadata": {},
   "source": [
    "**Experiment 1**: Compare structured trace with linear, using hill-climbing: structured trace wins by far, of course."
   ]
  },
  {
   "cell_type": "code",
   "execution_count": 9,
   "metadata": {},
   "outputs": [
    {
     "name": "stdout",
     "output_type": "stream",
     "text": [
      "mean 140.04 std 18.02 min 110.51 med 137.16 max 169.31\n",
      "mean 339.96 std 17.52 min 306.86 med 341.46 max 367.45\n",
      "Ttest_indResult(statistic=-23.866841778779722, pvalue=4.4656991378244708e-15)\n"
     ]
    }
   ],
   "source": [
    "d0, d1 = results[(None, False, 'generator', 'HC')], results[(None, True, 'generator', 'HC')]\n",
    "print(stat_summary(d0))\n",
    "print(stat_summary(d1))\n",
    "print(scipy.stats.ttest_ind(d0, d1))"
   ]
  },
  {
   "cell_type": "markdown",
   "metadata": {},
   "source": [
    "**Experiment 2**: Compare hill-climbing with EA, using structured trace: HC wins!"
   ]
  },
  {
   "cell_type": "code",
   "execution_count": 10,
   "metadata": {},
   "outputs": [
    {
     "name": "stdout",
     "output_type": "stream",
     "text": [
      "mean 339.96 std 17.52 min 306.86 med 341.46 max 367.45\n",
      "mean 278.86 std 16.90 min 259.91 med 274.59 max 307.18\n",
      "Ttest_indResult(statistic=7.5306762107943719, pvalue=5.7340017105491142e-07)\n"
     ]
    }
   ],
   "source": [
    "d0, d1 = results[(None, True, 'generator', 'HC')], results[(None, True, 'generator', 'EA')]\n",
    "print(stat_summary(d0))\n",
    "print(stat_summary(d1))\n",
    "print(scipy.stats.ttest_ind(d0, d1))"
   ]
  },
  {
   "cell_type": "markdown",
   "metadata": {},
   "source": [
    "**Experiment 3**: Compare HC with LAHC, using structured trace: HC wins! Stupid algorithms are good with the right representation?!"
   ]
  },
  {
   "cell_type": "code",
   "execution_count": 11,
   "metadata": {},
   "outputs": [
    {
     "name": "stdout",
     "output_type": "stream",
     "text": [
      "mean 339.96 std 17.52 min 306.86 med 341.46 max 367.45\n",
      "mean 295.84 std 23.81 min 260.69 med 291.51 max 343.54\n",
      "Ttest_indResult(statistic=4.4785064029570272, pvalue=0.00029045136637852127)\n"
     ]
    }
   ],
   "source": [
    "d0, d1 = results[(None, True, 'generator', 'HC')], results[(None, True, 'generator', 'LA')]\n",
    "print(stat_summary(d0))\n",
    "print(stat_summary(d1))\n",
    "print(scipy.stats.ttest_ind(d0, d1))"
   ]
  },
  {
   "cell_type": "markdown",
   "metadata": {},
   "source": [
    "Conclusions and future work\n",
    "---\n",
    "\n",
    "We have demonstrated the use of variable-length and heterogeneously-typed (ie different distributions) program traces, and how to carry out an experiment using PTO's provided tools, leading to some simple experiment results.\n",
    "\n",
    "Some ideas to test in future:\n",
    "\n",
    "* Try an alternative generator which interleaves the gamma and normal sampling.\n",
    "\n",
    "* Instead of setting `m` at the start, decide \"whether to stop\" at each\n",
    "iteration -- need to make sure `m` distribution is still Poisson, though.\n"
   ]
  },
  {
   "cell_type": "code",
   "execution_count": null,
   "metadata": {
    "collapsed": true
   },
   "outputs": [],
   "source": []
  }
 ],
 "metadata": {
  "kernelspec": {
   "display_name": "Python 2",
   "language": "python",
   "name": "python2"
  },
  "language_info": {
   "codemirror_mode": {
    "name": "ipython",
    "version": 2
   },
   "file_extension": ".py",
   "mimetype": "text/x-python",
   "name": "python",
   "nbconvert_exporter": "python",
   "pygments_lexer": "ipython2",
   "version": "2.7.14"
  }
 },
 "nbformat": 4,
 "nbformat_minor": 1
}
