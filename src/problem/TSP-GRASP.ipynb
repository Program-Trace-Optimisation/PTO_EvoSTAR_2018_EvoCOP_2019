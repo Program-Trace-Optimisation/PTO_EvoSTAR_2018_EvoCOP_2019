{
 "cells": [
  {
   "cell_type": "code",
   "execution_count": 1,
   "metadata": {},
   "outputs": [],
   "source": [
    "from PTO import random, solve"
   ]
  },
  {
   "cell_type": "markdown",
   "metadata": {},
   "source": [
    "### Solving TSP with GRASP emulated in PTO\n",
    "\n",
    "We'll use the same problem generator and fitness as when we solved TSP directly in PTO."
   ]
  },
  {
   "cell_type": "code",
   "execution_count": 2,
   "metadata": {},
   "outputs": [],
   "source": [
    "n = 10\n",
    "def randprob(n): \n",
    "    c = [[0 for x in range(n)] for x in range(n)] # initialise cost matrix\n",
    "    for i in range(n):\n",
    "        for j in range(n):\n",
    "            if i == j:\n",
    "                c[i][j] = 0 # zero diagonal\n",
    "            elif i > j:\n",
    "                c[i][j] = c[j][i] # symmetric matrix\n",
    "            else:\n",
    "                c[i][j] = random.expovariate(1) # more interesting than uniform weights\n",
    "    return c\n",
    "instance = randprob(n)"
   ]
  },
  {
   "cell_type": "code",
   "execution_count": 3,
   "metadata": {},
   "outputs": [],
   "source": [
    "def _fitness(perm, inst):\n",
    "    # note negative indexing trick to include final step (return to origin)\n",
    "    return -sum([inst[perm[i-1]][perm[i]] for i in range(0,len(perm))])\n",
    "fitness = lambda perm: _fitness(perm, instance)"
   ]
  },
  {
   "cell_type": "markdown",
   "metadata": {},
   "source": [
    "Next, we use the same generic GRASP generator as when we solved the ORDERING problem with GRASP emulated in PTO."
   ]
  },
  {
   "cell_type": "code",
   "execution_count": 4,
   "metadata": {},
   "outputs": [],
   "source": [
    "def randsol():\n",
    "  solution = empty_solution()\n",
    "  while(not complete(solution)):\n",
    "    #print(solution)\n",
    "    features = allowed_features(solution)\n",
    "    costs = {feat:cost_feature(solution, feat) for feat in features}\n",
    "    min_cost, max_cost = min(costs.values()), max(costs.values())\n",
    "    RCL = [feat for feat in features if costs[feat] <= min_cost + alpha * (max_cost - min_cost)]\n",
    "    #print(RCL)\n",
    "    selected_feature = random.choice(RCL) # only source of randomness\n",
    "    solution = add_feature(solution, selected_feature)\n",
    "  return solution "
   ]
  },
  {
   "cell_type": "markdown",
   "metadata": {},
   "source": [
    "### TSP-specific functions for GRASP in PTO\n",
    "\n",
    "Finally, we fill in the functions used by `randsol` in a way appropriate to TSP. In fact, all of them are the same as in the ORDERING problem, except for the `cost_feature` functions and a small bookkeeping change in `allowed_features` (we will now count from 0 to n-1 instead of 1 to n)."
   ]
  },
  {
   "cell_type": "code",
   "execution_count": 5,
   "metadata": {},
   "outputs": [],
   "source": [
    "n=len(instance)\n",
    "\n",
    "def empty_solution():\n",
    "  return []\n",
    "\n",
    "def complete(solution):\n",
    "  return len(solution)==n\n",
    "\n",
    "def allowed_features(solution):\n",
    "  all_items = range(n) # count from 0 to n-1\n",
    "  remaining_items = [item for item in all_items if item not in solution]\n",
    "  return remaining_items\n",
    "\n",
    "def cost_feature(solution, feat):\n",
    "  if len(solution) == 0:\n",
    "    # all cities cost nothing as start city. \n",
    "    # NB this will give a uniform random choice of start city,\n",
    "    # which is better than hardcoding it!\n",
    "    return 0 \n",
    "  last_item = solution[-1]\n",
    "  dist = instance[last_item][feat]\n",
    "  return dist\n",
    "\n",
    "def add_feature(solution, feat):\n",
    "  sol = solution[:] + [feat]\n",
    "  return sol"
   ]
  },
  {
   "cell_type": "markdown",
   "metadata": {},
   "source": [
    "Now we can quickly test our approach without metaheuristic search. Again, we observe that the fully greedy approach is the best in this scenario."
   ]
  },
  {
   "cell_type": "code",
   "execution_count": 6,
   "metadata": {},
   "outputs": [
    {
     "name": "stdout",
     "output_type": "stream",
     "text": [
      "Random solution: fitness -7.684; [1, 5, 3, 2, 9, 4, 7, 0, 8, 6]\n",
      "Random solution: fitness -3.598; [2, 3, 6, 7, 9, 4, 1, 5, 8, 0]\n",
      "Random solution: fitness -3.598; [2, 3, 6, 7, 9, 4, 1, 5, 8, 0]\n",
      "Random solution: fitness -8.048; [3, 2, 9, 4, 7, 1, 5, 6, 8, 0]\n",
      "Random solution: fitness -5.023; [0, 7, 9, 4, 1, 5, 3, 2, 6, 8]\n",
      "===\n",
      "Random solution: fitness -4.437; [6, 3, 4, 8, 9, 1, 5, 7, 0, 2]\n",
      "Random solution: fitness -3.633; [3, 9, 8, 4, 1, 7, 0, 2, 6, 5]\n",
      "Random solution: fitness -6.338; [9, 7, 2, 3, 8, 4, 1, 5, 6, 0]\n",
      "Random solution: fitness -8.086; [9, 7, 5, 8, 4, 3, 2, 6, 0, 1]\n",
      "Random solution: fitness -7.973; [0, 8, 5, 6, 4, 7, 1, 9, 2, 3]\n",
      "===\n",
      "Random solution: fitness -11.898; [2, 6, 4, 3, 8, 7, 0, 5, 9, 1]\n",
      "Random solution: fitness -9.251; [1, 7, 5, 4, 0, 2, 3, 8, 6, 9]\n",
      "Random solution: fitness -9.540; [9, 2, 4, 1, 8, 5, 3, 7, 0, 6]\n",
      "Random solution: fitness -6.355; [8, 9, 4, 2, 1, 5, 6, 7, 0, 3]\n",
      "Random solution: fitness -12.192; [2, 5, 1, 0, 6, 4, 9, 7, 8, 3]\n"
     ]
    }
   ],
   "source": [
    "alpha = 0.0 # completely greedy\n",
    "\n",
    "for i in range(5):\n",
    "    x = randsol()\n",
    "    print(\"Random solution: fitness %.3f; %s\" % (fitness(x), str(x)))\n",
    "    \n",
    "print(\"===\")    \n",
    "    \n",
    "alpha = 0.5 # half way\n",
    "\n",
    "for i in range(5):\n",
    "    x = randsol()\n",
    "    print(\"Random solution: fitness %.3f; %s\" % (fitness(x), str(x)))\n",
    "    \n",
    "print(\"===\")    \n",
    "    \n",
    "alpha = 1.0 # completely random\n",
    "\n",
    "for i in range(5):\n",
    "    x = randsol()\n",
    "    print(\"Random solution: fitness %.3f; %s\" % (fitness(x), str(x)))"
   ]
  },
  {
   "cell_type": "markdown",
   "metadata": {},
   "source": [
    "Now we can test with metaheuristic optimisation. This time, we observe that a less greedy approach in the generator ($\\alpha=0.5$) typically improves performance, at least with the HC solver."
   ]
  },
  {
   "cell_type": "code",
   "execution_count": 7,
   "metadata": {},
   "outputs": [
    {
     "name": "stdout",
     "output_type": "stream",
     "text": [
      "alpha solver -fitness\n",
      "0 RS -3.598054431866717\n",
      "0 HC -5.023215692594591\n",
      "0 EA -3.598054431866717\n",
      "IN MGA RUN\n",
      "POP SIZE 12\n",
      "[-5.023215692594592, -6.075571461961394, -6.075571461961394, -7.683583483829779, -5.023215692594592, -3.598054431866717, -5.023215692594591, -5.023215692594592, -5.68135922682716, -5.386446518387433, -6.075571461961394, -5.68135922682716]\n",
      "0 MGA -3.598054431866717\n",
      "0.5 RS -3.089009110342272\n",
      "0.5 HC -3.22229523551451\n",
      "0.5 EA -3.830096042186346\n",
      "IN MGA RUN\n",
      "POP SIZE 12\n",
      "[-3.4344594617807767, -5.490652151914328, -3.2835460373747822, -8.273928680250176, -6.032596999039852, -4.829472751541084, -5.1857108916517545, -3.6285969633177757, -6.38283517708164, -8.105107102471981, -3.807218877744407, -6.020642171366156]\n",
      "0.5 MGA -3.2835460373747822\n",
      "1.0 RS -4.007868227643763\n",
      "1.0 HC -4.913035098103312\n",
      "1.0 EA -6.1188346756859495\n",
      "IN MGA RUN\n",
      "POP SIZE 12\n",
      "[-10.965074902880552, -7.095758547832249, -10.325168650246399, -7.123802491784132, -13.276303827103243, -12.833392599446714, -11.68502209341539, -5.691167625536497, -10.723628726824597, -8.258495667725505, -11.725994569629616, -8.468264024306281]\n",
      "1.0 MGA -5.691167625536497\n"
     ]
    }
   ],
   "source": [
    "print(\"alpha solver -fitness\")\n",
    "for alpha in [0, 0.5, 1.0]:\n",
    "    for solver in [\"RS\", \"HC\", \"EA\", \"MGA\"]:\n",
    "        ind, fit = solve(randsol, fitness, solver=solver, budget=150)\n",
    "        print(alpha, solver, fit)\n"
   ]
  },
  {
   "cell_type": "code",
   "execution_count": null,
   "metadata": {
    "collapsed": true
   },
   "outputs": [],
   "source": []
  }
 ],
 "metadata": {
  "kernelspec": {
   "display_name": "Python 3",
   "language": "python",
   "name": "python3"
  },
  "language_info": {
   "codemirror_mode": {
    "name": "ipython",
    "version": 3
   },
   "file_extension": ".py",
   "mimetype": "text/x-python",
   "name": "python",
   "nbconvert_exporter": "python",
   "pygments_lexer": "ipython3",
   "version": "3.7.3"
  }
 },
 "nbformat": 4,
 "nbformat_minor": 1
}
